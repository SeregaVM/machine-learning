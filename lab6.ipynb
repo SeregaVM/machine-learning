{
 "cells": [
  {
   "cell_type": "markdown",
   "id": "e48b40ca-4d0c-4200-b001-c138ab731eb0",
   "metadata": {},
   "source": [
    "# Лабораторная работа №6. Машины опорных векторов и ядра скалярного произведения\n",
    "\n",
    "В данной лабораторной работе рассматривается использование машин опорных векторов для решения задач классификации и регрессии."
   ]
  },
  {
   "cell_type": "code",
   "execution_count": null,
   "id": "1a443278-91f3-4443-ae7c-2e602c27e767",
   "metadata": {},
   "outputs": [],
   "source": [
    "BYzKNd9ENEbzdofCaHAg3r34cVfqEmkAXeqXJUkvpyk=",
    "k/2D8Q++FCM6xdjebxKaF7YKXryLZMZjlpmrxGVautg=",
    "9s36UbhtKx8sdGbDtIGjp2xMfnXzfZ54knKniVDBkOc=",
    "/G9pwlY5xoaW4bPSUY9Sl1AIEKp0OoZ8JDdbsUdzR2NcUsytvhyBQtqDm3LtB1CT",
    "tS1kIa3XzKWI/2YVtAvVJnPGudxh7FpsogjXcV3fmX8=",
    "mutw8uGy6SdQGs4HZtUxTNxYrZJbrD2atIOlH86vB4g=",
    "mutw8uGy6SdQGs4HZtUxTPgFXVGJnDrjZmt8RZbjjVSGeD/KpQz56P+H03IjlNTx",
    "+0AzMkXNBjlGwIOywaqjlQ==",
    "IIlwJEtNoBvWm7UJwtoJR3r5BsFA/LDARQCR0cpFqPdZ857Tf6PXtjnoiKh0XrBk",
    "9mLQLYaS3YTsgZ1j9GFGn0+Tvkxsp5i+QLHZ2YUnpcOsjU1Edd83ANIz4VNtrKvfDSRMYSLu5nc8S5Z/ZEKnWQ=="
   ]
  },
  {
   "cell_type": "markdown",
   "id": "d5ce49e8-ba1d-4803-91f7-f2f624ff8ba0",
   "metadata": {},
   "source": [
    "## Задание №1\n",
    "\n",
    "Подготовьте обучающую и тестовую выборки.\n",
    "Значение `random_state` соответствует номеру варианта.\n",
    "Размер тестовой выборки должен составлять 20% от исходной выборки."
   ]
  },
  {
   "cell_type": "code",
   "execution_count": null,
   "id": "90d53ac7-e8c8-4888-b7e3-6c8e581004af",
   "metadata": {},
   "outputs": [],
   "source": [
    "gc03TdtlhhZ4i9O1ssAWlG1dd55XxFBwDKVrM5VAMTB56kPhY9aaVK6mXwLM/f6UMcDIxhfSWJYeuUtAs8O802XX/rcIQEDOjGItKHeDOaBob4aoE0eGP8tEJ+fMG9ua7HEl9Bu1cKGVSiS0WTCDECjkGDANRNthhsG8mfEAnAGfkXYiZLJZZ0qf9p0oXf80pfAgIVqOVbs9qhh6R724og==",
    "y7MK+QG8G5wdZtM2d5PA/bTyKzS7Qsf2+GENiZmV9Wlw/jnXEu0d4t0C9gqN32cYa1buwDWiSKzerAvbe+H7MD3utKGdxTFhJaZqvuABe13T7hq537o7sOPRlDqKmDtZpGndOIEr6J6dqN6z7HYKlw==",
    "+0AzMkXNBjlGwIOywaqjlQ==",
    "0CW1suIK3kZ499j9BCXl8KLCAWI+fHyUL6y0fYLsF8+R+V5Mu37KwLPchH8u4TIAZ2OMobrsUtlfQEhhSAIF5w==",
    "Ih8pNaUXm2w3N30B9lgffZLfZga5A1nHuR4NAewV7K91O6GWiDcFlhr+HwzzncOFjm+dZbiyX+mQUdFWcPjnBg==",
    "JwgDj5jxAgF3Mumgd4TzunIhHb6LbyPQhehZB1frJGjugLmNdMgCug/b/DRMxQcPJMo0Q9aNuCXk1SUry9OxBRt9QUdAjppFKXl8YPHC+T4=",
    "/mXt/jqM07sm1kPRCVNmd0hTnZziktg+QG7ywm2URp/bdeccWSsonQWoCNDDhyVWkh9WSlkp6qGrwqojjYQYdw==",
    "Bnr22ZJp0q7haZhmE2QqLc6LQ9V4gnlHpBDz25UG3g2Zuc2YXOdfiWlbfNMjebPc6svK0bbs2lywpotwv6ad8eElwpBjojmrHcnCiAl7HrY=",
    "2/aC3pBVYTVvPqkMBe0K/3Vb0RnYc4GYeYEgXKr0/B388qnImGDhHb7bY+d6yv2P"
   ]
  },
  {
   "cell_type": "markdown",
   "id": "2e5ac97d-5d12-4a50-ba24-fc69ac370fa2",
   "metadata": {},
   "source": [
    "## Задание №2\n",
    "\n",
    "Рассмотрим задачу классификации с использованием машин опорных векторов.\n",
    "Визуализируйте разделение пространства признаков для следующих ядер:\n",
    "\n",
    "* линейное,\n",
    "* полиномиальные (порядков 2-5),\n",
    "* радиальное RBF.\n",
    "\n",
    "Для каждого из ядер найдите точность (accuracy) для обучающей и тестовой выборок, а также число используемых опорных векторов (сложность модели).\n",
    "На основе полученных значений точности (accuracy) выберите наилучшую модель.\n",
    "Для полиномиальных ядер в отчет включите только ту модель, которая дает наилучший результат.\n",
    "Число опорных векторов - это сумма опорных векторов всех классов в переменной `n_support_`."
   ]
  },
  {
   "cell_type": "code",
   "execution_count": null,
   "id": "c869213a-7fa3-4d91-8ffa-6df003528703",
   "metadata": {},
   "outputs": [],
   "source": [
    "/BE6oEGq0JuxG4c6RMaLfRoxxv1ENIttCyhOa1iunpwNYJchsB5whH7cLJy2dkZNmKmDNBeDX+J849zSarutmOsypCtXmmePJ8JqBMAad74=",
    "tGJW9WKgELWX7q0nu65+UxFlxi4NuOp54VxDqkBukXqRHCsI1S+9laxMvnKMrY+GU5Rxjm1ohdA4V+XTB5J26F3vbR+e8Ctc6NE3UdkD6uM=",
    "VFXCsoK9o+BMNLpZdvZyARxGB3mRopXS5GHp1f40wtyZo67NDnsy8Owg5zm2biL+g7KnpRscUySiJm6XgTp85lLuheCQJyC4pfBiveFNb4B0KxYecveg/31nqT6d/K6v",
    "+0AzMkXNBjlGwIOywaqjlQ==",
    "IZU5ELZ70Y065vtPh2zUMLIgZJiT66Gr+3Ps2emun5/BsJDk8UyiFj0F+uikgEfAMqeiRESuS4ZUThzPZ/Ir0mVgk2RaC0pSz61737d1C6kEd24b02FhWZrpc3yOP+/5",
    "NJym+t1Dn8u1lEGHCBZjYEH1JmJMJaDrU2KP3dQBYeY=",
    "hma7SKRdSs4r9dgNe0w3I/6D87Fm9JriVjliJ+JcmqY=",
    "E4w5pKHGMa/I6lkE3o4ClqcMESUW2tm3GPX0BHP/uhblXlDh2LRpIM15YOZpGm3oVTJ+CbQyzhV7aVwn0+WPlQ==",
    "+0AzMkXNBjlGwIOywaqjlQ==",
    "QUFE+qdo8npI5uw9NACl8fn9V4GJ0OHGRarrqiIAlnAjpNmHcUxrOYu9AmeOSLn/ZbUHVxdBIoYPaqKD6Fej3NzkovIcHPt9FGMMd9eqx6g=",
    "Bu7E6t/8fnZBulAKzzvvO9mTeSr3e8C+n5yxwXNh6IEnsOL9YB8yQHe1ecYOnthTarPJ5fbSKqUW+F7taaDtQQ==",
    "6MF1/pP6/tyhCXZUSzES+uOkIrWHGJNER8+pUtNTqz2L+pJhC8001ua6TvbNwcdA",
    "Xmj/piZ4BQRNgEZQg4KKJP6OXAvNcyYCBM6rPwIyG4kHSNgZeLu6yLfZ0ztaWTaiRnzK5jhil6ugdPQuoGfXLdZa9hGDR1OV28wqC4/SKfe3cf0CsK1yfOPFvPntv88OMo+pbq/6e5UqZLTasUENUQ==",
    "zp7njvexezrLao7TjCDM6TrqJSANLRGxZLNDwPztfauOF/Jj8phyq70JF+tRJSCu9q1Il9YsRzDMOJidEa5ad5a5xMtiT+y8IK6IGvURO30=",
    "A3VHMOgSdNxTcyjTvsW/eqPzxlMYZUfl7rRxe1BChU9VOJUcxIXXBVbuEUykn30Usp/CZQGIihLLIPcYM9CPKg==",
    "0dqn11rJ2dZQVvEwnsUE7TPckRHPKVE9PqbKOkhXq5wFy6IAElhAQcDOjR4qo9pFpUQe8dvgx2DQhegNPqXNww==",
    "B5l8tk0WUt+7QeBVBG2SMw==",
    "25g9yfEC736H2HJVH+T+L8H8rCrwEgmA/VAMxGLn3nb8Mw0JubCmceEfslsZs77sV1E4BCKOcmcw8JxSReBcJiY42UztIRvPVMdyEVShhu4Teb2VN88Jal/3tqnljWRKyv0GS8vEb8wmxebE/MkWg49/5Ji/bzZmksTbD62OGEXVaUDUt1Ff0Dd9mwK+p9+H+e+CqkeXfW7vZ6x8Am2BqA=="
   ]
  },
  {
   "cell_type": "markdown",
   "id": "fb8236d7-431d-4aee-ae8c-ab2a4f15b809",
   "metadata": {},
   "source": [
    "**Вопросы:**\n",
    "\n",
    "1. Какая модель оказалась лучшей по точности классификации?\n",
    "1. Какая модель использует наименьшее число опорных векторов?\n",
    "1. Что можно сказать о влиянии числа опорных векторов на качество модели?"
   ]
  },
  {
   "cell_type": "markdown",
   "id": "41c311ed-56f8-4e62-8a99-f484d586c45f",
   "metadata": {},
   "source": [
    "**Ответы:**\n",
    "\n",
    "1. ...\n",
    "1. ..."
   ]
  },
  {
   "cell_type": "markdown",
   "id": "502a0a06-cce2-4ade-afce-fff6492c8be8",
   "metadata": {},
   "source": [
    "## Задание №3\n",
    "\n",
    "Пусть задача минимизации функции стоимости имеет вид\n",
    "$$\n",
    "\\frac{1}{2} \\lVert\\mathbf{w}\\rVert^2 + C \\sum_{i=0}^{N-1} \\xi_i \\rightarrow \\min_{w,\\xi},\n",
    "$$\n",
    "а преобразование пространства признаков осуществляется ядром\n",
    "$$\n",
    "RBF(x, y) = \\exp\\left( -\\frac{\\lVert x - y \\rVert^2}{\\sigma^2} \\right),\n",
    "$$\n",
    "где $C > 0$, $\\sigma > 0$.\n",
    "\n",
    "**Замечания:**\n",
    "\n",
    "* Оптимальные параметры следует выбирать по наилучшему значению на тестовой выборке.\n",
    "Если в исследуемой зависимости наблюдается несколько пиков с наилучшим значением, то стоит принять в рассмотрение также результат на обучающей выборке.\n",
    "* Параметру $\\sigma$ в `SVC` соответствует параметр `gamma`.\n",
    "* Выбирайте диапазоны параметроы $C$ и $\\sigma$ такими, чтобы было хорошо видно поведение зависимостей на всех графиках.\n",
    "* Для генерации параметров $C$ используйте `np.linspace`, для $\\sigma$ - `np.logspace`.\n",
    "* Ширина зазора - это квадратичная норма от результата `desision_function` (помните, что в `numpy` функция `np.linalg.norm` выдаёт ненормированную норму).\n",
    "\n",
    "### Задание №3.1\n",
    "\n",
    "* Постройте графики зависимостей числа опорных векторов и ширины зазора от параметра регуляризации $C$, приняв $\\sigma$ равным единице.\n",
    "* Постройте графики зависимостей точности (accuracy) от параметра $C$ для обучающей и тестовой выборок, на основе чего выберите оптимальный параметр $C$."
   ]
  },
  {
   "cell_type": "code",
   "execution_count": null,
   "id": "b957a543-334d-4f4c-8429-de04004ed119",
   "metadata": {},
   "outputs": [],
   "source": [
    "n0MSOXfZeQGOkObHf5wb0A==",
    "+0AzMkXNBjlGwIOywaqjlQ==",
    "uZEuPRLcTyNGnqPxt3v0+8oShzKoLKTuo/APwDLVPf3l0FCg1m78DPVLl5Ft5QnL",
    "viiBWTF771suHn8z5NJw3LfB6+gKm0uaP4D6hUISJPuc9TjL25C7qYQGtP3UIsdCl3aPXqJ42sTpR73rIxY7BkLchODn1E47SPNgYdjSQYQ=",
    "bFQqZXIaO134181StsWQc3Uof4XvfjxaYbCtbRQy+TI=",
    "nv9Te5xptGX5gU6yY8Fq2msU3UWF42HRAj6KOsteBZ5BN4sblOxOziQIuZC4NpqCg89R5KVEnDOgD7+p6ROS9nsOuggxUOZjNVzZtS0jRa0AQHW059gHv041BYvDf/oA",
    "6MF1/pP6/tyhCXZUSzES+uOkIrWHGJNER8+pUtNTqz2L+pJhC8001ua6TvbNwcdA",
    "7KymDym2hqEJ5JoR3a8eSSXLtSg/L/WCGb0hCVuKbAJtXuO5FIIjSFd9euUdlwNzh6kO3OiPI2EQkH/YmqdkwgNuSEeWXCB0uQYaTDWqhPiv0Y8eGGnCRQ4qGbCf7jiGt9lLyMG9DBr1DH1qDOk+wA==",
    "28u09wNvT8P0EAdmsoXXP4eU16NTdp7mW42jg6NUNF0mxXLd4U3kkko4YO6x8MBFxyCUl/ygvWLKSfEQvVOCjg==",
    "44JvlYqGlr8tlBIkkHS4iwj0dDXwUcAE0db1OONZCH2UMbliEFtpI9+lEjhzf4oD1orXW04JDN+5nkOrMT9VlQ==",
    "dIN1oSzLz6pHrV45IIN2VE4zcpSg1hjlwmEuuIaBdhAXrIiRpLjfAd6yXswZHA+tsvZ20GPcUQ+1RArSGYm+fg==",
    "+0AzMkXNBjlGwIOywaqjlQ==",
    "jBTcOvHRkZJXRNUOTReaCu31fGSnC+4buVhWMUP8uDrkRSfK70Vh6VPYpft58bmv1IciWnHkErdkeRJZiHttnQ==",
    "0bM5xG+563foaXlE7IE/5DfGy/jkTRrkw3mbr6frtjMd7Sv0GiaCZ8opjesm4RtY",
    "JwgDj5jxAgF3Mumgd4TzulUscpPuF4Iutm33LfpkUl8DD94nN7C6ah4RDSNna9z0AkSWV8Rpkem4GXecVsnxrHhBpPd4DYyD3sQmVWFLq9uTY0II+imo3eD5Apet5DiQ",
    "Ei9FNu+VxAUjBLvREVs7yO9ZxJMA9LcQw5Y1gb7xdkO2nhSj2I7NlBfDX6sF1QKj",
    "Bnr22ZJp0q7haZhmE2QqLRZiCflQoceP++TZ4uqIiGUhfEBFRvmtcuMnJUZxkul1G0YdWJyppenk5g483LOolTjhiVoyjjtU1RWXMc5xMEr0Js4+3VYZrtx2LhPWeJqEe9FLTZH2QIdIhin+GWyo9Q==",
    "sdex/ZcEkjm2Y/Zva/cafXKGhEe9uY5YdQWyuNI6Ejef4y0XsbaXCLLx0I2KYu6aaQYKqiunPSmvUNlAAEo3nA==",
    "sdex/ZcEkjm2Y/Zva/cafY/T+8CHYvvhprP2U0qn8RBrgsiJFEIEGFergxSX08AHvqK3wRdZYg3w5OQoaHz4Lw==",
    "pXeBs6j7nyygiMDdOm4yH8rJzUYsfCH4XRFNoysOJXY/Gw5EqtwXpJlIGBtYJIhf6iT4C96oWl/HBS2ZEBcPyikdhqV9IMlsANGp0ailq0k=",
    "l3d4TP8zge0479yuGaRpHg==",
    "+0AzMkXNBjlGwIOywaqjlQ==",
    "A3i6buOprWgSzu3YLoLe4alcz37tRrpVoSIPnAGOCARPQxXKH4oUgsEhAZQEh6dDNCCKrOgwjxiu3Kb59kTw7pgjYWBLYPT1Yx4noMvF5V4=",
    "akgAP6HpQbrDrmq6M2J48s3bSrYJsbFvD1+4BW5aC5Hsc/mD5KprynNOzs/FqjIgCX5WY3yrw98MtgLOO83/PQ==",
    "P9epvQ7qboy4zGTH8mbeNaY/18W5hf6YFPt1maYrT+k=",
    "xoy4fgTTZ5qOFvOd45fOic1JQslAtXjLgJy63ZO0AzD9TJC81MPDCs1hwugRru+/stWfFo3H9FizD9+f/glWgB+Akte86iDrmow5KZjFuh4Gddog00OFaDVXOo35dFCfyJ64POXHIRlmzg6Yhr/s6HzsbIMos0UhH352AAdQfvk="
   ]
  },
  {
   "cell_type": "markdown",
   "id": "2bed64de-9438-4a34-9014-2215d2dca5e9",
   "metadata": {},
   "source": [
    "**Вопросы:**\n",
    "\n",
    "1. Какое значение принимает оптимальный параметр регуляризации `C`?\n",
    "1. Как ведёт себя ширина зазора при увеличении параметра `C`?\n",
    "1. Что происходит с количеством опорных векторов при увеличении параметра `C`?"
   ]
  },
  {
   "cell_type": "markdown",
   "id": "cde8b3f2-6a0d-4bc7-916d-958a4f0be448",
   "metadata": {},
   "source": [
    "**Ответы:**\n",
    "\n",
    "1. ...\n",
    "1. ..."
   ]
  },
  {
   "cell_type": "markdown",
   "id": "3ceea7dc-a28e-4075-b5ee-da3fe100055e",
   "metadata": {},
   "source": [
    "### Задание №3.2\n",
    "\n",
    "* Постройте графики зависимостей числа опорных векторов и ширины зазора от параметра $\\sigma$, используя найденное оптимальное $C$.\n",
    "* Постройте графики зависимостей точности (accuracy) от параметра $\\sigma$ для обучающей и тестовой выборок, на основе чего выберите оптимальный параметр $\\sigma$.\n",
    "* Для параметра $\\sigma$ используйте логарифмический масштаб."
   ]
  },
  {
   "cell_type": "code",
   "execution_count": null,
   "id": "da35fab2-e8be-460e-a730-e3ce68250a9d",
   "metadata": {},
   "outputs": [],
   "source": [
    "n0MSOXfZeQGOkObHf5wb0A==",
    "+0AzMkXNBjlGwIOywaqjlQ==",
    "74hfBkJOySZ7Ej6VKmqtyhXzfvp8Hh7DfJKoOmkYRcv/vpJqYrqhJLWVy2I5KTdd",
    "viiBWTF771suHn8z5NJw3LfB6+gKm0uaP4D6hUISJPuc9TjL25C7qYQGtP3UIsdCl3aPXqJ42sTpR73rIxY7BkLchODn1E47SPNgYdjSQYQ=",
    "lucW+eBBu/GTcgq2kGz/az1NSW5NDScszYlO0ERutbw=",
    "nv9Te5xptGX5gU6yY8Fq2msU3UWF42HRAj6KOsteBZ6dsk5lkH0ZBHpqDMXnPQOCdru1NkmCRwZEuY9oTiMO9s82JdAOWMEjOqR57386E3cIy2WDGpdMIx2asKIFTIS0",
    "6MF1/pP6/tyhCXZUSzES+uOkIrWHGJNER8+pUtNTqz2L+pJhC8001ua6TvbNwcdA",
    "7KymDym2hqEJ5JoR3a8eSSXLtSg/L/WCGb0hCVuKbAJtXuO5FIIjSFd9euUdlwNzh6kO3OiPI2EQkH/YmqdkwgNuSEeWXCB0uQYaTDWqhPiv0Y8eGGnCRQ4qGbCf7jiGt9lLyMG9DBr1DH1qDOk+wA==",
    "28u09wNvT8P0EAdmsoXXP4eU16NTdp7mW42jg6NUNF0mxXLd4U3kkko4YO6x8MBFxyCUl/ygvWLKSfEQvVOCjg==",
    "44JvlYqGlr8tlBIkkHS4iwj0dDXwUcAE0db1OONZCH2UMbliEFtpI9+lEjhzf4oD1orXW04JDN+5nkOrMT9VlQ==",
    "dIN1oSzLz6pHrV45IIN2VE4zcpSg1hjlwmEuuIaBdhAXrIiRpLjfAd6yXswZHA+tsvZ20GPcUQ+1RArSGYm+fg==",
    "+0AzMkXNBjlGwIOywaqjlQ==",
    "jBTcOvHRkZJXRNUOTReaCu31fGSnC+4buVhWMUP8uDrkRSfK70Vh6VPYpft58bmv4otNuHjYwVycUAffc6v7cqLNqFhivi9Ofkv8JX4iU4iWtQdO87QW/OtwugvI9Nbb",
    "BLgBOr5FFYIx8+bCUDc5wrMSKuXmM99RmvvdsAM6+8h3UHMdmUHnPMb8vGj0l0W67U5MHV5SQu9gH4H421qb1A==",
    "JwgDj5jxAgF3Mumgd4TzulcfoOMTzey8VQUZdiorEg8ImVy0u3iRmu2vOe6cwHdl4yj6ZXMb+PNiqDhKrjOWLOKOrlYAOAo4Z4lHVmZyUZuAjNbW+8+8MycsvdBpY5qtBREDPdpi5jtD2e7kETs31A==",
    "bbc8l5WgWIHmVDCPWZIMU7d0qh2Y1D8re/6zNxtlmpeeClEc7ONamwKRpYL2Um0d",
    "Bnr22ZJp0q7haZhmE2QqLSgdseqWNaSVWvmQGDVLQErppJ+3+K3+cFdbhvZQzjPIa2nGsD0LgBguCCf1J5WmDXnxgKLTmDW+54P/ztBc1gN8yR7aIm8Q5O2bVCJd/1w+kUcv/6TqLQTUov3LFc427hS7D6OAQi8e49JyPmq3qGY=",
    "IatUzQBDLZ1sZwwkfY070O7aGNzT93q6i2c07u8TF776fQKRxZ01oXpHM2jCSAIdlIgzLjQq0QaGdiO19LOD4g==",
    "IatUzQBDLZ1sZwwkfY070O7aGNzT93q6i2c07u8TF77QfrQcOshk/RgSyhcCLtR3SgyV34ZWa5aHV9pOFIYAWA==",
    "pXeBs6j7nyygiMDdOm4yHz3tbZnuiCdN9RvFRG0YIBZ9h5qpEafQDd7ziBYNE/O/9jrRo6wGP/OpgtGm1a6CW0uTJSK5wLt144zDeOHkFRr47GJeqt1EYfbLVsFSFJxi",
    "l3d4TP8zge0479yuGaRpHg==",
    "+0AzMkXNBjlGwIOywaqjlQ==",
    "A3i6buOprWgSzu3YLoLe4alcz37tRrpVoSIPnAGOCARPQxXKH4oUgsEhAZQEh6dDNCCKrOgwjxiu3Kb59kTw7pgjYWBLYPT1Yx4noMvF5V4=",
    "akgAP6HpQbrDrmq6M2J48s3bSrYJsbFvD1+4BW5aC5Hsc/mD5KprynNOzs/FqjIgCX5WY3yrw98MtgLOO83/PQ==",
    "OXRpWmTCt2N8Fpxf05XW6mcWe9sJEKvfCoxL1xNA4dPWRE5biZ3PK201MuJ41ITg",
    "xoy4fgTTZ5qOFvOd45fOiWdmPRA/uH7aTSv+ES/YOpNjY770l5IhgsNNCee7Demu8LijiJBEWlXj8p5LEdx8hjzO/vxJ5O+21tNTJXLIpdqmaq4SN1F55aszV3iFxdrx85ytkMep6wZOSrgXJOtcMeaedI+qj//IRocERl19NQjfCp+RoZfxUs7RqTi3hGV2"
   ]
  },
  {
   "cell_type": "markdown",
   "id": "356374f3-07aa-413e-9a51-a37071dc58dd",
   "metadata": {},
   "source": [
    "**Вопросы:**\n",
    "\n",
    "1. Как ведёт себя значение ширины зазора при изменении значения параметра $\\sigma$?\n",
    "1. Как изменяется число опорных векторов при уменьшении/увеличении значения парметра $\\sigma$?\n",
    "1. Удалось ли улучшить результаты классификации?"
   ]
  },
  {
   "cell_type": "markdown",
   "id": "1d44662f-3574-48b8-84f2-f5c46f4d4ba8",
   "metadata": {},
   "source": [
    "**Ответы:**\n",
    "\n",
    "1. ...\n",
    "1. ..."
   ]
  },
  {
   "cell_type": "markdown",
   "id": "46531bbf-fd3e-4e42-9955-dd996c5f2a21",
   "metadata": {},
   "source": [
    "### Задание №3.3\n",
    "\n",
    "Визуализируйте разделение пространства признаков для наилучшей модели."
   ]
  },
  {
   "cell_type": "code",
   "execution_count": null,
   "id": "dad71f88-1deb-4bd8-92df-b88b9e8c219e",
   "metadata": {},
   "outputs": [],
   "source": [
    "nubaRthh73kncNKjDKDkZTJt8WaiVrBOUrHgmdkw/Ixiq1nQFuoEIAYRmO2NjuYF8YjjDMZbd0u82WUZcwFVwQ==",
    "eF1KSMnKSE1idlVGWO4rtBCr77uqbR0Y0g4bYEerJdQ=",
    "tDlN/nJjgncenu69K32ujI6Ux9+Dnd9Nq1WdOW9jMuMJoDxJlajXpemQsnruQKL0mUg/S7k5UFEsrPSvGn+Xry6yppmgIL0QIR9C3brjgrHWGA+YBae4pX+OKaw+kxnOpba8H5sNKf8yGMpNbxIS8Q==",
    "sVYN2BzpelBNFTdZOwIeMHMtMD3QjoThwwvGJEIiOksfB92bBMaz36yv8LRoZLnQ/4eT1pguf4fTQYIbh+aQIwi72e2OkSFGXUUrQzYotaE=",
    "Q2ZZ5wsJzKMpBIMdsLiGvAWc7RgatsXmmmvGur9DH7dygooNWiywttOagXndTmV4mM/e3MNVTGIUyh1nZ12HUQ==",
    "p+uvsDEcrbDI3j03tQmskPGUoLS+waOT2+zpe9Zft0g=",
    "s05mRSoN/i+SIsa4l0h0eesbUVZw+WL/1XfJIMlnJU0="
   ]
  },
  {
   "cell_type": "markdown",
   "id": "8ae6128c-fb05-4b5a-a0d2-e6d5aff9108f",
   "metadata": {},
   "source": [
    "**Вопросы:**\n",
    "\n",
    "* Удалось ли увеличить качество модели (со скольких до скольких) по сравнению с предыдущим заданием?\n",
    "Как при этом изменилась форма разделяющей поверхности? \n",
    "* Сделайте вывод о влиянии параметров $C$ и $\\sigma$ на сложность модели и ширину зазора."
   ]
  },
  {
   "cell_type": "markdown",
   "id": "8a7e64a5-4a3b-4f6b-acf2-cced21817237",
   "metadata": {},
   "source": [
    "**Ответы:**\n",
    "\n",
    "1. ...\n",
    "1. ..."
   ]
  },
  {
   "cell_type": "markdown",
   "id": "5be688cf-cd1f-4a20-b22d-844ae81dd999",
   "metadata": {},
   "source": [
    "## Задание №4\n",
    "\n",
    "Подготовьте датасет с нелинейными данными. Координата `x` генериурется как отрезок $[-1; 1]$ в количестве 100 отсчётов, `y` генерируется согласно варианту.\n",
    "Разделите датасет на обучающую и тестовую выборки.\n",
    "Размер тестовой выборки следует выбрать равным 20% от размера всей выборки.\n",
    "\n",
    "Функция для генерации `y` компоненты датасета (выбирается согласно формуле `1 + (<порядковый номер> % 2)`:\n",
    "\n",
    "1. `np.arctan(A * x - 0.23) + 0.1`\n",
    "1. `np.sin(A * x + 0.1) - 0.43`\n",
    "\n",
    "Число `A` вычисляется по формуле `4 + (<порядковый номер> % 5)`."
   ]
  },
  {
   "cell_type": "code",
   "execution_count": null,
   "id": "685e9dc0-c33d-41e7-aef2-2cdb10c17e54",
   "metadata": {},
   "outputs": [],
   "source": [
    "hr3xbshs86sONmWKxslnj86/MuYOQjLo+CdaziV09UzA8PAGz0WwB6MIo89k7AJM",
    "uuXfbzJ3L608bu5AcVA+XmG92JCrhhweWS5fUo6F2BU=",
    "cYY2N//qzRGPD+G7wDQjTwEGVU2BLss9LVgaSMO/5BQ=",
    "J29zPLpSPJCA3jY8Ua5JXCoCyR7OMysjBR20C7090KE=",
    "y7MK+QG8G5wdZtM2d5PA/bTyKzS7Qsf2+GENiZmV9Wlw/jnXEu0d4t0C9gqN32cYa1buwDWiSKzerAvbe+H7MBmCBvno9Ju9FqdOmpuJcuTT/6OSfETqboRnY2pxGfDTwkRPfD3GRbXo0L21TX5KS1tOgM8M0fjUArobTxpxLnLcX6oQ85UBX/jd3QsWWNaR",
    "+0AzMkXNBjlGwIOywaqjlQ==",
    "0CW1suIK3kZ499j9BCXl8KLCAWI+fHyUL6y0fYLsF8+R+V5Mu37KwLPchH8u4TIANPod/6ImeIA7lEQnClpCpA==",
    "raA0eVQzJfml4CrFI4JW1VWbI0DSIIsSmtrLlPjPWAdLg0QaVh70sUBDOUsDVSjo",
    "JwgDj5jxAgF3Mumgd4TzuvJfljhdzvb1fyj1omkMHATlUBO49juRlBrYm/kFGsHhY/JE2z0jV/u8akrpUhKzi8QZoCD91qvSTpPsbEPVgJuEpAKtyBvm4kFidNyjMbHa7s0UIZSQL3qUbHxbMLC4Sg==",
    "ATVup11uAbXEwxHMwnf+Nf+OHiF9eqdHYniGP99gWqtvcc6GjA4W5+PiB1x8E5Wd",
    "Bnr22ZJp0q7haZhmE2QqLagb4OMZ8JA0emhF5h++WcCIbLfWLdY/GYjp6I0+G45oQmhKgLpWNqHI5lyOtlKHQmg3CVuhYsR50l3+C3l98j0yWZjRAzpo/io1WSHoHbu8xxJK4d0Racy5421mmZZzhA==",
    "2/aC3pBVYTVvPqkMBe0K/3Vb0RnYc4GYeYEgXKr0/B388qnImGDhHb7bY+d6yv2P"
   ]
  },
  {
   "cell_type": "markdown",
   "id": "c8d1d65b-0f07-4fc9-a42c-28d3604e06ea",
   "metadata": {},
   "source": [
    "## Задание №5\n",
    "\n",
    "Рассмотрим задачу регрессии с использованием машин опорных векторов (`sk.svm.SVR`).\n",
    "Постройте графики, на которых изображены истинные и предсказанные значения для следующих ядер:\n",
    "\n",
    "* линейное,\n",
    "* полиномиальные (порядков 2-10),\n",
    "* радиальное RBF.\n",
    "\n",
    "Для каждого из ядер найдите MSE-ошибки на обучающей и тестовой выборках.\n",
    "На основе полученных значений MSE выберите наилучшую модель.\n",
    "Для полиномиальных ядер в отчет включите только ту модель, которая дает наилучший результат."
   ]
  },
  {
   "cell_type": "code",
   "execution_count": null,
   "id": "1dddb066-46cd-470b-bee3-b1c8de101378",
   "metadata": {},
   "outputs": [],
   "source": [
    "IZU5ELZ70Y065vtPh2zUMAK/Hg/+hkwpwiUPX+lOq9L55zq8aDLyTwknQr07z+BkL67Z+PqQylT+jmO02bQvxggDz2097YlaRCAxyJoMr5suX3qACdp9KPIqCMtoDJZ0",
    "JDT6KCZHI6Ry5NsUiNNAZF/157qsUPwvHgBewCvgOXw=",
    "keEfwBdctycXA5hGRQFdNCKZpguN7teoGt4YBtb3PV4=",
    "E4w5pKHGMa/I6lkE3o4ClpT6xnPQF+EYS/eiE02Gy454wyAlB4SqBFk/oF+9uxUr5yNn7HH7uIHR44nq8n9BmQ==",
    "+0AzMkXNBjlGwIOywaqjlQ==",
    "FPYFYw61RGAidJJ+n7mZW++sWqsiCrlZ4+ydtQdQ+6WogLs+MtaKmsJxspmJy+feS1BJQzM6X2EE/lFg3mANpwGRz1xvktdWF94mhHScohJuvJrf6DA0moDq8oNbZoDSfgvDemQC3lWF38wb+x9paQ==",
    "Bu7E6t/8fnZBulAKzzvvO9mTeSr3e8C+n5yxwXNh6IEnsOL9YB8yQHe1ecYOnthTarPJ5fbSKqUW+F7taaDtQQ==",
    "6MF1/pP6/tyhCXZUSzES+uOkIrWHGJNER8+pUtNTqz2L+pJhC8001ua6TvbNwcdA",
    "fgzXBP+OjWcCKsCmTsLEFFHGWHTdxfG5RKTE7ETEFF2xD0uPMKutMbXOoa9Yhr3A1nzvR2WQHNYfzq3+QvoRpw==",
    "fgzXBP+OjWcCKsCmTsLEFFbvXv19hg+OD/MbdcX+Bzz0PaaG/AGNdCqnJzl/gTJNljmZRp1/uLfxelk+vff7OJMxfVp+0CXaONxPcEL9urc=",
    "0dqn11rJ2dZQVvEwnsUE7Wx767p0xX3L1aGZNvZXZPIiNLUzQLy7HmqQzU+NqU91rFtI5a/JPMvcCbypiCmaz8U4Kv0z8mAqusnRsJvXQ4w=",
    "mGQyO0la5fngsO5/C13aH2LvD7LP8h8LvrHFzLdcD64=",
    "B5l8tk0WUt+7QeBVBG2SMw==",
    "qJhL01ftT1Wizeu3XIckUyFg4+qBziPV2SIIUh/NYjT4mDbi4MfmLEiS5E2BHGC+PHoA0D5hvvQgsVyRTeLh/el+ynqaGck1BBiH0Q8T1sPCLYCjKiWkudPRpXMDpMU9",
    "VfrvY7AMv02JoTVaRviQwwnB6xNk937lD+gLol+nd/7CvpXqYDaCukP5D+YM11CqZY6xp/U73hkudPYUp9QdtGCvN/PzUjJF5hOcHWPM+n0=",
    "25g9yfEC736H2HJVH+T+Ly9W7HygZ2fwSHRbvQ7GIb2+ThMEVaZg7OOSEHNvCtoi27zbdwL5opyUWfTnl7T2EAI1ObaldSL2BdH9FIiDP2RjGmNCHs0bWlY9Z+uohzaAaLyAjxD/rBS31w8HymZamQ=="
   ]
  },
  {
   "cell_type": "markdown",
   "id": "59a6fb42-3ffa-420f-a821-65948d42a2f3",
   "metadata": {},
   "source": [
    "**Вопросы:**\n",
    "\n",
    "1. Насколько модели показывают правдоподобные результаты?\n",
    "1. Какая модель даёт меньшую ошибку MSE?\n",
    "1. Какая модель использует меньшее количество опорных векторов?"
   ]
  },
  {
   "cell_type": "markdown",
   "id": "93c0b185-7a0b-4223-b1d0-555a3eb66ecc",
   "metadata": {},
   "source": [
    "**Ответы:**\n",
    "\n",
    "1. ...\n",
    "1. ..."
   ]
  },
  {
   "cell_type": "markdown",
   "id": "6e04aa1d-126b-483f-a188-39a1f2ac7a00",
   "metadata": {},
   "source": [
    "## Задание №6\n",
    "\n",
    "Попробуйте улучшить результат, полученный оптимальной моделью из предыдущего задания.\n",
    "Для этого следует подобрать параметры регуляризации $C$ и $\\varepsilon$ одновременно с помощью функции\n",
    "[GridSearchCV](https://scikit-learn.org/stable/modules/generated/sklearn.model_selection.GridSearchCV.html).\n",
    "При построении решётки параметров для `C` используйте `np.linspace`, для `epsilon` - `np.logspace`.\n",
    "Можно подбирать диапазоны поэтапно: от широкого, но с большим шагом, до более маленьго диапазона с меньшим шагом.\n",
    "Найти самый оптимальный минимум не требуется.\n",
    "Вполне можно остановиться на MSE $\\approx 10^{-5}$.\n",
    "\n",
    "### Задание №6.1\n",
    "\n",
    "Постройте график, на котором изображены истинные и предсказанные значения для наилучшей модели."
   ]
  },
  {
   "cell_type": "code",
   "execution_count": null,
   "id": "6e3ce10b-6b7e-4fff-914d-d1d678a63b0a",
   "metadata": {},
   "outputs": [],
   "source": [
    "n0MSOXfZeQGOkObHf5wb0A==",
    "+0AzMkXNBjlGwIOywaqjlQ==",
    "6jJyUAnEFc0fONa7sTX3bpQHPc41SBvR1XgSVqEOyvB3ZEc3MaaQ2ZJ3+z1kYuVsBaJ8blIkPxvvCp5j7aVMrvrKCZ6ISL966/iLpcnK53idZ1HXEAJkaZqgZXF4vr9r",
    "A94Q4b/0CpE5SUaEUY+hvs9+bmnUDppUcTCcyri7zRrc+pzs0FwGIY73w9J/6pn6HccoBXdJV+zZc8/uJDPrlnHcDtcLUrGLXChPuofCl06B7AZSpckuZWLQuH4ugW06/jPNAM07nuxUGxjJoKtZbUqTeuF5dbrWR/koyYXp8ps=",
    "eF1KSMnKSE1idlVGWO4rtBCr77uqbR0Y0g4bYEerJdQ=",
    "gZkbRE1QoC9pTUAVR5e5uK/s/2AJHpviP+l0PwrTsvw=",
    "+0AzMkXNBjlGwIOywaqjlQ==",
    "h+XAOpcBs3/QHSJKkfZsu6TEBoQs6RqMEVfN3JYzVdyl1+1nwblPrLGIhQuK2ceX",
    "dHW7AMZirOVNDL7c7+QauUBOvGsWpZGDESYdMnFpUCIUTx3hqylQb8kYcL+DLyWD",
    "dHW7AMZirOVNDL7c7+QauUEBC++8zATawvv39sD9j7MQeH1vgFP2rDQ0oGsGr5Dg+8Wm/gixR2YQDJjAkdz+Tg==",
    "pJsocd1LMwHkPY5GnE0eFw==",
    "a9OWTA0D17rUFMw8s757ztZEAptoDObUBgtH2VNgm2BvoQrLdDZQrAqArZTYdzpZvwgv4GmNQa3gXRCLRQkTDNJlXtkBfyOZmGVZqK3hjWnkmzw+duw9FZSwUeiC+dRtUhLciE8wdBwZ/ANWA4+Aiu67PdbiDs5rt3bgi03OoVo="
   ]
  },
  {
   "cell_type": "markdown",
   "id": "c9df675f-9e7d-4ee0-898f-8001bb0c12f1",
   "metadata": {},
   "source": [
    "**Вопросы:**\n",
    "\n",
    "1. Удалось ли увеличить качество модели по сравнению с предыдущим заданием? Насколько?\n",
    "1. Сравние количество опорных векторов в полученной модели и в прошлой.\n",
    "1. Как изменился график предсказанной зависимости?"
   ]
  },
  {
   "cell_type": "markdown",
   "id": "40a4476a-05b0-49aa-b9d8-66b869d1f932",
   "metadata": {},
   "source": [
    "**Ответы:**\n",
    "\n",
    "1. ...\n",
    "1. ..."
   ]
  },
  {
   "cell_type": "markdown",
   "id": "7dcb832a-a8cc-42a1-8d0c-df751906a2bd",
   "metadata": {},
   "source": [
    "### Задание №6.2\n",
    "\n",
    "Постройте графики зависимостей числа опорных векторов от $C$ и от $\\varepsilon$.\n",
    "В качестве свободных параметров используйте те, которые нашли на предыдущем шаге."
   ]
  },
  {
   "cell_type": "code",
   "execution_count": null,
   "id": "80d7b6c5-df92-4513-a20b-6c725c1a4da6",
   "metadata": {},
   "outputs": [],
   "source": [
    "n0MSOXfZeQGOkObHf5wb0A==",
    "+0AzMkXNBjlGwIOywaqjlQ==",
    "5hyQreqU6mVhfswG1Ci38pz+a3o3cs5BRZOOoTti+Xg8IrC3EICh+MCa7cM/FkU7JvFUh1Mx2vIYt5LZp5ULkA==",
    "+0AzMkXNBjlGwIOywaqjlQ==",
    "NmJ4DOOHpEcPD1E2vZNztuU4RRtzGJENNXvt8+HnfG8=",
    "UjirL0NPmf44yTvVHSBs05crdnEFiN9tKo4HcF8CtLk=",
    "n8LxkrvVZ4K35Mu1xdf+nZa3llXbhKYeiOLVgM+h10s7fWV5XAV8uoJcceqoF94U079N1hf4ymx6B+B5s+i2pBhS9XKxrwTHfdhNvJJrWso=",
    "AX9f4rvMcZysFejU4waZJalYgoOELUpxIoqB/MbSqzQ=",
    "gr7svwDERZOtfxIxoSyXzFIGwkyW86PT0CmPSon5oPM1D8ORZyO3eEG5gnpEzeoI",
    "+0AzMkXNBjlGwIOywaqjlQ==",
    "oVcYCGRVnQyYbC1tc176hnOiN04JvPmboeBFNt52RMNZXrElzrk8nIqsMBZ/K61P",
    "JwgDj5jxAgF3Mumgd4Tzujs6VHJpiIC1vyJlvl3f8co3+c8i/bhfCHGlWjyHevrCt2XwDo+TQaV1Fo7m065wsU5Zc6768Cybks57X+82ZbxyrbuEE1uwvRvVluc7ivl8e7/mfAa442OpNweIfRtIwA==",
    "+0AzMkXNBjlGwIOywaqjlQ==",
    "NmJ4DOOHpEcPD1E2vZNztuU4RRtzGJENNXvt8+HnfG8=",
    "UA5Yi4zCtziOJlL0HkHhbz5Wd8KW0jQGXdUwcu2meujcG4CPESNfsoFQ1R7sTo7X",
    "n8LxkrvVZ4K35Mu1xdf+nZa3llXbhKYeiOLVgM+h10uiqShnlHZsAPe7LasXFF7XdvFeS3jLAymQ58+IbTeIUmL2S/upO92y0Vdc0MgQVCk=",
    "AX9f4rvMcZysFejU4waZJalYgoOELUpxIoqB/MbSqzQ=",
    "gr7svwDERZOtfxIxoSyXzFIGwkyW86PT0CmPSon5oPM1D8ORZyO3eEG5gnpEzeoI",
    "+0AzMkXNBjlGwIOywaqjlQ==",
    "FEAb8pS3Evy4ojRUafWgiQqp9Q5T2iN9d/pBzXu/hCkUVh7mK+oOwNMaMgb2P9mr",
    "Bnr22ZJp0q7haZhmE2QqLaToE/kQEPpsb3YuwtIhwvEg5TmjxOm/HFDzUwfzCnwICUdt8k8qFEovcvEnz4pDsbVrEDfvh4pK87Eh1dXob3hYZ3CqhLguRcFQdKqFHbpr3MTNnBWNhgbF5xX215a/Qs6E52o0jmQ2u7riJlHfiPE="
   ]
  },
  {
   "cell_type": "markdown",
   "id": "8d3cb262-359f-45e6-806a-c9a3aeca0e2a",
   "metadata": {},
   "source": [
    "**Вопросы:**\n",
    "\n",
    "1. Как влияют параметры регуляризации $C$ и $\\varepsilon$ на сложность модели?"
   ]
  },
  {
   "cell_type": "markdown",
   "id": "0d603e7d-acf1-4303-a85d-ec58d15d4095",
   "metadata": {},
   "source": [
    "**Ответы:**\n",
    "\n",
    "1. ..."
   ]
  }
 ],
 "metadata": {
  "kernelspec": {
   "display_name": "Python3",
   "language": "python",
   "name": "python3"
  },
  "language_info": {
   "codemirror_mode": {
    "name": "ipython",
    "version": 3
   },
   "file_extension": ".py",
   "mimetype": "text/x-python",
   "name": "python",
   "nbconvert_exporter": "python",
   "pygments_lexer": "ipython3",
   "version": "3.9.6"
  }
 },
 "nbformat": 4,
 "nbformat_minor": 5
}
