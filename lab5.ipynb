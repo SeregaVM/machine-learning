{
 "cells": [
  {
   "cell_type": "markdown",
   "id": "74c184e2-f7b2-4c6d-b78a-77a91b646aad",
   "metadata": {},
   "source": [
    "# Лабораторная работа №5. Сверточные нейронные сети\n",
    "\n",
    "В данной лабораторной работе рассматривается решение задачи классификации посредством свёрточных нейронных сетей.\n",
    "Для построения сетей предлагается использовать [Keras](https://keras.io) на базе [TensorFlow](https://www.tensorflow.org)."
   ]
  },
  {
   "cell_type": "code",
   "execution_count": null,
   "id": "a95b529e-54a2-4ae2-a8cb-a0416cbf7c14",
   "metadata": {},
   "outputs": [],
   "source": [
    "BYzKNd9ENEbzdofCaHAg3r34cVfqEmkAXeqXJUkvpyk=",
    "mutw8uGy6SdQGs4HZtUxTNxYrZJbrD2atIOlH86vB4g=",
    "mutw8uGy6SdQGs4HZtUxTPgFXVGJnDrjZmt8RZbjjVSGeD/KpQz56P+H03IjlNTx",
    "kgSAMlp7E7dC440twFrvwhIUR/ekAfDsYrdnTBY58Ns=",
    "kgSAMlp7E7dC440twFrvwr9IHn9m18ngg+8qAyYMoIc=",
    "k/2D8Q++FCM6xdjebxKaF7YKXryLZMZjlpmrxGVautg=",
    "9s36UbhtKx8sdGbDtIGjp2xMfnXzfZ54knKniVDBkOc=",
    "/G9pwlY5xoaW4bPSUY9Sl1AIEKp0OoZ8JDdbsUdzR2NcUsytvhyBQtqDm3LtB1CT",
    "+0AzMkXNBjlGwIOywaqjlQ==",
    "IIlwJEtNoBvWm7UJwtoJR3r5BsFA/LDARQCR0cpFqPdZ857Tf6PXtjnoiKh0XrBk",
    "+0AzMkXNBjlGwIOywaqjlQ==",
    "LXFZDybH5MvkKgLkHIepSluM+VqWcMGT2cWBl7j+y47Vwx38VbMvdi1uqgp0OVA/1sbz5xmvvS+LnhZKqTbTT8+7uiXijeijOtRIillAKjE=",
    "Wvr/QFLuagmO9OnP+bFaGZaEBlle7h5OEW5JQNbyXZNt+s5urpyNd4p1MvUmZt+Awd5pVhL8KiWT5KdEHyJvJQ==",
    "xCTsujeDcNBFsTdiU9ehbau7Hmq9MC2gW6xW9TZ2CsvGL2Nhklzdn0/8LG0uNuIo",
    "Z49RXT4oLe7K9sqrrwZ+s+q4SyTUJzKFbe8kzAi/PJM=",
    "I+P9GRNFU5zcr6HMFAoJz0GxEcVDUo5/ZEiMmhgob2oqUA7ddh/P12ehK7viGkQYjgABKcV5sMHCDYmhvzGNTA=="
   ]
  },
  {
   "cell_type": "markdown",
   "id": "aa4cf21e-47fb-4f26-a894-ecb7c76ee3d3",
   "metadata": {},
   "source": [
    "## Задание №1\n",
    "\n",
    "Загрузите датасет MNIST с помощью вызова `tf.keras.datasets.mnist.load_data()`.\n",
    "Промасштабируйте обучающую и тестовую выборки, чтобы входные значения лежали в отрезке $[0; 1]$."
   ]
  },
  {
   "cell_type": "code",
   "execution_count": null,
   "id": "56bda162-f9b2-428c-a53d-21a8085de7b6",
   "metadata": {},
   "outputs": [],
   "source": [
    "dZNVkqWRGaGwuyXbV68vi73fsSE3e3dx/BZbaIXzEKPM4kMqkMyKUVWGYdyfimPKLv2U24Vx5YjJcY33gVbcJA16q0FEbOY8H57SrJwL/x8=",
    "+0AzMkXNBjlGwIOywaqjlQ==",
    "YvroL3HEfdXOK2eNa+4j8GEeIrry49ntIgIRcFK8BUAa/biUhLf9je0dxg0i4VUyMXezDLi0yoGNKAhUV+X+/gOyqdeCIs4/bkBVN63e9DU=",
    "3syVvbDvMzFjlHOYx2/1sPZTvoRxqKoC28mR5py0SRLCPLnlOzU5/iu+3JcBc3mgHGgzgKjbJdkX7DWzUguD6A==",
    "+0AzMkXNBjlGwIOywaqjlQ==",
    "+0GSX/koSklE/KQ5yEMYcr7v3GvjNxXMBqg3Tt0FMEMRSGn+G542LA3VAmcGl+XsEnkjGomjqCd068Hp8NqVZw==",
    "eKRNqylIWdokgfvilaIkWJlXg90ng/yX4XfmmDwdv+oREYMMjQO+v8h6iVoEV4vYVSBvtV2vcQ+XinzjlEQQynzfG76Fotl9ZixROBT/ezz7POKDOaMmR4JN+yJxbiIzRf0I7qOQi7mKqbwPC32Rtv8l5xVPPJMY9ZedlcTOhnaStPmLRabF2tRlA5sNagDQ",
    "u1SjdNK8hcCZWAO8d7RHDQ0bSHIlKOOCBbg+Bke9rthp2MfAs79Drx+cwp5FCWw7MEaCJ/KblZXxbyZidGIBvlXPl920MO8qScIVluh1vKYXNuumfxiGL7Ea0XhifdZTSEQ7Hrvudlo3yGSIWJUHTRTSqwtUsIQYcUK4qd6R/AmtSUpm80Q6cWmouLQJ9Jy2J9b/J3W7LmUe2Z+6q1lqOA==",
    "Wi0pO9q+uuVGzWe4/OGPz/E5yY+9Dglv94ClUl4KtR898Sk3+THu/bAvkTJzp1m28JpndF3h+9DurGZZ5iZjKzox62awRRp4Xi34ZVuWL2E6xStNfO1Lmdh5I/4aT+BAZWPYq3TfjsRjqzhjs/mXzT283FuKYekc35TDozzuw7Q="
   ]
  },
  {
   "cell_type": "markdown",
   "id": "9b32b36c-968a-4e19-8bf7-d92d554ead1b",
   "metadata": {},
   "source": [
    "Изучите приведённую ниже сеть с архитектурой:\n",
    "\n",
    "1. Свёточный слой с 16 фильтрами размера $3\\times3$ и функцией активации relu\n",
    "1. Слой MaxPooling с размером шага 2\n",
    "1. Свёточный слой с 32 фильтрами размера $3\\times3$ и функцией активации relu\n",
    "1. Слой MaxPooling с размером шага 2\n",
    "1. Свёточный слой с 64 фильтрами размера $3\\times3$ и функцией активации relu\n",
    "1. Слой линеаризации\n",
    "1. Полносвязный слой с количеством нейронов равным количеству выходных классов с функцией активации softmax\n",
    "\n",
    "В качестве градиетного спуска выступает SGD, размер батча определяется при обучении модели.\n",
    "Для вычисления функции потерь используется кросс-энтропия по категориям с автоматическим OneHot кодированием.\n",
    "Метрика точности соответствует $accuracy(\\tilde{y}, y) = \\frac{1}{N} \\sum_{n=0}^{N-1} 1(\\tilde{y}_n = y_n)$.\n",
    "При этом точное название метрики `sparse_categorical_accuracy`, которое можно сократить до `accuracy`, так как метрика выбирается согласно функции потерь.\n",
    "\n",
    "Запустите нейросеть.\n",
    "Итоговая точность должна получится около 92% или больше."
   ]
  },
  {
   "cell_type": "code",
   "execution_count": null,
   "id": "8d8c1a02-71bd-467c-a397-b55e79426b29",
   "metadata": {},
   "outputs": [],
   "source": [
    "n0MSOXfZeQGOkObHf5wb0A==",
    "+0AzMkXNBjlGwIOywaqjlQ==",
    "OEkZ9J+RCtE0ESHcJfqLHbCvohAesLdwLoxGCq0hhN1Kf+BHvihmSiTjx75XBL5K",
    "yX2e1aNP4T0knk8ylaBIO/Ru7XLpq/bF9wlR6WlIkb6Rvb3h85EEUHH1eYpIRd+XKHGOiLTqihrjV6NvvSvczg==",
    "atb/ouqDGSV4AbhSMu7a/iSiebavK3MgzGS9IZ2jZQLQ6AyCceBE6B4StC7gnH0S86t2VidNkrC3Cv/Ue3TZdh3vKpqgjc7oRmtpT6+atO/UxUPpaY0VN0QEfaLDJKi+Q5t3fOsIOBf0O1/GghMpnw==",
    "atb/ouqDGSV4AbhSMu7a/jDopdlHZ4Jt8aXjwHcvHIar+LFZVSa4DugUgkdrDMT2rtUaYzr+JSlqJG8OEm5ZY+sxVFFO9qu7ibmD/Wc+fnM=",
    "atb/ouqDGSV4AbhSMu7a/iSiebavK3MgzGS9IZ2jZQJPZ+aE+yhz6juhmaihedVxNF14X6P41ZBAwQuIDsRK2AJdtqzYs8+ckWbc+useYFaV5U/W6XkSP7Jbs4ZU+aclSVtCrfG7jXq+ev1SCpjN4g==",
    "atb/ouqDGSV4AbhSMu7a/jDopdlHZ4Jt8aXjwHcvHIar+LFZVSa4DugUgkdrDMT2rtUaYzr+JSlqJG8OEm5ZY+sxVFFO9qu7ibmD/Wc+fnM=",
    "atb/ouqDGSV4AbhSMu7a/iSiebavK3MgzGS9IZ2jZQLS5aYw7ufiYLwkbPYCffnmdd+cLwz14hE7vlcNpn4IVfF2+aPHlXyw5KpQXxFQ0ZfmFm3mFW/X4Rw1Y+yKihr+nVZ5olyb4bT1CIY6hpJLGA==",
    "atb/ouqDGSV4AbhSMu7a/uFK0TQuXGjVWt0z5scRVv1NvIc47jlb/vjjTJO+6+GW",
    "WRySZj+bVnrYNEmHUIuuKaBPwr06z07Edc/cFgeeDhmttAVZowmWc3Lv/cX4WQbMwlQsC3mW8QQCIRpJjnbPrV5k82Kt5kT+VUThAtF5eE9Dw4wRyR+611PWvIp8LuMf",
    "B5l8tk0WUt+7QeBVBG2SMw==",
    "BP5dkNau+03wr8upNRo5x+6NHnOtQUYqqpS6qTeE4x+/HWu9rhU7EaRvJvZFBT0c",
    "I95jtsv+XIeD79EZuPjl9iI+UxFz1BPQq9ytybX8hz/wbf7nkohLyI3IsT4jgFJQO7KzytWdt3R9iRdlRyNKcOWwpAZpJX44hzKnCrbOc8TclETUIXtYWX1Ii+sOEmMMF64uqOyGnZhTwpzsiG0NYA==",
    "JqV1CHvIsR5JePUQ3EfbIZRljCt/dVU2SNn1PpXZ0pY=",
    "/L1oHj/SmH7uuWlIA+DccEm7iTkuP8IgmTTbp/Moues=",
    "+0AzMkXNBjlGwIOywaqjlQ==",
    "D/G6x+0Y/pahDJMZJJv4YYTQHP/wVl7e/S3caJVpZFabwhAHtlsu9CTdGsVBZo1u",
    "eF1KSMnKSE1idlVGWO4rtOBGo2kSxBaNWpn0bWwndxk3vugfAKCVeSKPVtk5CpeCFA+aXc7quWB6EXMpv/G5Jbrucei9U2OWoHi+oys6pQjigVwLKX6ugCHxqck9RtGmFuBwtwa7Z1wefo6RknT8LQ==",
    "Ctc1pdxU4/CK532XSRbd0jVVo2irJbIYxSeQc3qRKJa96DT9Wew5ifENBiRVozhMNmq8VKJVip3kUvnzEi1x/w==",
    "TBaEllt8Bv0nlxNM+zSO0asTXMGVl7nJkSqeM2cqA8ZvwjKVGkevmT8XLwTgnmaj",
    "+0AzMkXNBjlGwIOywaqjlQ==",
    "US5r7Ov1c39pSbUOfRxCa6yRCIpG+t8PaGXRL3WqQqE=",
    "YsjiYcIhYfH1DJ2YHjSDthhEbWdqIgGh5JgeBi1Ecb7HPVwLNNsvF1lEyC1PV47P7OPOAz2l6pUiA/EMqbyWBg=="
   ]
  },
  {
   "cell_type": "markdown",
   "id": "02485339-588f-4332-a3fb-2b10af5cf8f0",
   "metadata": {},
   "source": [
    "**Вопросы**:\n",
    "\n",
    "1. Сколько всего параметров у нейронной сети?\n",
    "1. Сколько всего участвует в обучении векторов из обучающей выборки?\n",
    "1. Какая точность достигнута?\n",
    "1. В обучающей выборке в качестве классов используются числа от 0 до 9.\n",
    "Что получается на выходе у нейронной сети?\n",
    "Как выходные значения нейронной сети преобразовать в номер класса?"
   ]
  },
  {
   "cell_type": "markdown",
   "id": "a15f01e6-4351-4a96-afdd-f1c01e64cfcf",
   "metadata": {},
   "source": [
    "**Ответы**:\n",
    "\n",
    "1. ...\n",
    "1. ..."
   ]
  },
  {
   "cell_type": "markdown",
   "id": "17232f8c-606f-4eec-b172-8b365f41197f",
   "metadata": {},
   "source": [
    "## Задание №2\n",
    "\n",
    "Попробуйте увеличить точность классификации, например, добавив после каждого свёрточного слоя нормализацию (BatchNormalization) или изменив архитектуру сети.\n",
    "Объясните целесообразность произведенных изменений."
   ]
  },
  {
   "cell_type": "code",
   "execution_count": null,
   "id": "f2c9a05c-8c06-4c2e-bf10-94bacc86179d",
   "metadata": {},
   "outputs": [],
   "source": [
    "n0MSOXfZeQGOkObHf5wb0A==",
    "+0AzMkXNBjlGwIOywaqjlQ==",
    "OEkZ9J+RCtE0ESHcJfqLHYWqSGC66QoFA+yiGhaXLwwSqllj9oZU7s7GGK4LHNSS",
    "yX2e1aNP4T0knk8ylaBIO/Ru7XLpq/bF9wlR6WlIkb6Rvb3h85EEUHH1eYpIRd+XKHGOiLTqihrjV6NvvSvczg==",
    "atb/ouqDGSV4AbhSMu7a/iSiebavK3MgzGS9IZ2jZQLQ6AyCceBE6B4StC7gnH0S86t2VidNkrC3Cv/Ue3TZdh3vKpqgjc7oRmtpT6+atO/UxUPpaY0VN0QEfaLDJKi+Q5t3fOsIOBf0O1/GghMpnw==",
    "atb/ouqDGSV4AbhSMu7a/lYTbWBycb1Z2qrspjHLdRRPN7Z20EVFaMZ6xhLvrOMGsVEZ86HNFVCT+CcHmPnlSw==",
    "atb/ouqDGSV4AbhSMu7a/jDopdlHZ4Jt8aXjwHcvHIar+LFZVSa4DugUgkdrDMT2rtUaYzr+JSlqJG8OEm5ZY+sxVFFO9qu7ibmD/Wc+fnM=",
    "atb/ouqDGSV4AbhSMu7a/iSiebavK3MgzGS9IZ2jZQJPZ+aE+yhz6juhmaihedVxNF14X6P41ZBAwQuIDsRK2AJdtqzYs8+ckWbc+useYFaV5U/W6XkSP7Jbs4ZU+aclSVtCrfG7jXq+ev1SCpjN4g==",
    "atb/ouqDGSV4AbhSMu7a/lYTbWBycb1Z2qrspjHLdRTlGlZMe5UIxnUpzos9wjDK6nh4Ge3MicBkzRtdr0468A==",
    "atb/ouqDGSV4AbhSMu7a/jDopdlHZ4Jt8aXjwHcvHIar+LFZVSa4DugUgkdrDMT2rtUaYzr+JSlqJG8OEm5ZY+sxVFFO9qu7ibmD/Wc+fnM=",
    "atb/ouqDGSV4AbhSMu7a/iSiebavK3MgzGS9IZ2jZQLS5aYw7ufiYLwkbPYCffnmdd+cLwz14hE7vlcNpn4IVfF2+aPHlXyw5KpQXxFQ0ZfmFm3mFW/X4Rw1Y+yKihr+nVZ5olyb4bT1CIY6hpJLGA==",
    "atb/ouqDGSV4AbhSMu7a/lYTbWBycb1Z2qrspjHLdRTlGlZMe5UIxnUpzos9wjDK6nh4Ge3MicBkzRtdr0468A==",
    "atb/ouqDGSV4AbhSMu7a/uFK0TQuXGjVWt0z5scRVv1NvIc47jlb/vjjTJO+6+GW",
    "WRySZj+bVnrYNEmHUIuuKaBPwr06z07Edc/cFgeeDhmttAVZowmWc3Lv/cX4WQbMwlQsC3mW8QQCIRpJjnbPrV5k82Kt5kT+VUThAtF5eE9Dw4wRyR+611PWvIp8LuMf",
    "B5l8tk0WUt+7QeBVBG2SMw==",
    "BP5dkNau+03wr8upNRo5x+6NHnOtQUYqqpS6qTeE4x+/HWu9rhU7EaRvJvZFBT0c",
    "I95jtsv+XIeD79EZuPjl9iI+UxFz1BPQq9ytybX8hz/wbf7nkohLyI3IsT4jgFJQO7KzytWdt3R9iRdlRyNKcOWwpAZpJX44hzKnCrbOc8TclETUIXtYWX1Ii+sOEmMMF64uqOyGnZhTwpzsiG0NYA==",
    "JqV1CHvIsR5JePUQ3EfbIZRljCt/dVU2SNn1PpXZ0pY=",
    "/L1oHj/SmH7uuWlIA+DccEm7iTkuP8IgmTTbp/Moues=",
    "+0AzMkXNBjlGwIOywaqjlQ==",
    "D/G6x+0Y/pahDJMZJJv4YdNgNQRLlPRCpp5TVBkqjQQMySxa66d8KRLbu4411UED",
    "eF1KSMnKSE1idlVGWO4rtOBGo2kSxBaNWpn0bWwndxk3vugfAKCVeSKPVtk5CpeCFA+aXc7quWB6EXMpv/G5Jbrucei9U2OWoHi+oys6pQjigVwLKX6ugCHxqck9RtGmFuBwtwa7Z1wefo6RknT8LQ==",
    "Ctc1pdxU4/CK532XSRbd0jVVo2irJbIYxSeQc3qRKJa96DT9Wew5ifENBiRVozhMNmq8VKJVip3kUvnzEi1x/w==",
    "TBaEllt8Bv0nlxNM+zSO0asTXMGVl7nJkSqeM2cqA8YdVh0psNWrL/y0KS48iS4E"
   ]
  },
  {
   "cell_type": "markdown",
   "id": "0948204b-0f48-41b6-aabd-7023bb4d6e9c",
   "metadata": {},
   "source": [
    "**Вопросы:**\n",
    "\n",
    "1. Почему появились необучаемые параметры (non-trainable)?\n",
    "1. Распишите, какие и сколько параметров входят в BatchNormalization. Для этого воспользуйтесь переменной `layers` и методом `get_weights`.\n",
    "1. Сколько параметров используется на каждом batch normalization слое?\n",
    "1. Какая итоговая точность получилась? Стала ли она больше?\n",
    "1. Как введение новых слоёв повлияло на вермя обучения сети?\n",
    "1. Попробуйте поставить BatchNormalization слои перед/после MaxPooling. Как меняются характеристики и время обучения?"
   ]
  },
  {
   "cell_type": "markdown",
   "id": "f4de33b7-0a67-4e51-938c-628587c8fdaa",
   "metadata": {},
   "source": [
    "**Ответы:**\n",
    "\n",
    "1. ...\n",
    "1. ..."
   ]
  },
  {
   "cell_type": "markdown",
   "id": "9288c0d1-d05e-4bc1-b2d6-f14a79ce0a53",
   "metadata": {},
   "source": [
    "## Задание №3\n",
    "\n",
    "Визуализируйте результат воздействия весов последней сети с первого свёрточного слоя на одно из тестовых изображений."
   ]
  },
  {
   "cell_type": "code",
   "execution_count": null,
   "id": "b3f4cae5-d7a0-4b59-88bb-a300b1e43258",
   "metadata": {},
   "outputs": [],
   "source": [
    "B4KRFpFzRu4KdnJoPKmQmn6+uhGH9trooysPDidIIFM7laLlT581BzETR2929JYP",
    "/UKwEcrlhl8Xmo1SZ428navhzIBbedry95lOMhyaC1E=",
    "+0AzMkXNBjlGwIOywaqjlQ==",
    "iI/XBH36TLhG2m18e1P+cGXTT/BpwrZkbDkZGXWJEko=",
    "OOzkfoVONeqllcsHibl15ZiOXqNs8ZYlfENmaGAi84GVgFaqpnW20lTCptIbuMdAFr5pX0gGQHn5jSFe9nGo3Q==",
    "+0AzMkXNBjlGwIOywaqjlQ==",
    "FPYFYw61RGAidJJ+n7mZW/+2DaHQTW4P7kSMEjp6/mMA/hPQjCha/aByj0bgDqTDY/scoF6xpf3Zrtso1vQeJA==",
    "7V3/AorLbGFeoiw9Nm2kyk8tKbLqVhMvJsQu9z2ffM5Ry5t+AYLoDk/+vWoX8iim",
    "fDDL6/683yH5fmq55xceaFjqFU96pAn/AkUMcn98AsGRrhvV2iR3htWVv+FNZ5y0",
    "8meFqXvjhadsKJ+s3ANf6GC92QHazlcZVepJSTNyzBVHsn5s1w0ZdmQrjgY+ImTneITPhKS73P7PfgLSAgd8eA==",
    "NqibiK9eaqH7PW1NUMavlFP5omz0mFC0ffyxnqyQVqs="
   ]
  },
  {
   "cell_type": "markdown",
   "id": "f0759779-d11f-46b1-a96b-21956a6e2a2d",
   "metadata": {},
   "source": [
    "**Вопросы:**\n",
    "\n",
    "1. На что похожи отклики с первого слоя?"
   ]
  },
  {
   "cell_type": "markdown",
   "id": "f22fa65f-3e37-4e2b-91f3-39944ab5d62e",
   "metadata": {},
   "source": [
    "**Ответы:**\n",
    "\n",
    "1. ..."
   ]
  },
  {
   "cell_type": "markdown",
   "id": "c0f6f050-a53e-44e9-8d6d-9af0ccfbd598",
   "metadata": {},
   "source": [
    "## Задание №4\n",
    "\n",
    "Подготовьте датасет [cifar10](https://keras.io/api/datasets/) аналогично предыдущему датасету.\n",
    "Во время первого запуска будет скачиваться архив (около 170 МБ).\n",
    "Он будет закеширован локально, поэтому последующие загрузки этого датасета будут занимать меньше времени.\n",
    "\n",
    "Покажите 4 произвольных изображения из обучающей выборки."
   ]
  },
  {
   "cell_type": "code",
   "execution_count": null,
   "id": "875eeb8a-315c-4be3-8b79-7a0dbc559b5b",
   "metadata": {},
   "outputs": [],
   "source": [
    "dZNVkqWRGaGwuyXbV68vi73fsSE3e3dx/BZbaIXzEKPM4kMqkMyKUVWGYdyfimPK7GVjdf1T34785kD9ltbv3+00e2dTj0i0wqKU/4L/azU=",
    "+0AzMkXNBjlGwIOywaqjlQ==",
    "mgvbIiNDp8qqQEDjcw3E4iZKoPGbBAH0GrujBcsEFaFBiNuA6Tnj/PcLgj6OC5af",
    "SGcfVCy5WW9iNuUsEWQefeOiEYQpeFbXSPQMUVzZYTVPClR2r1ztYOWEhW8CHBj3",
    "+0AzMkXNBjlGwIOywaqjlQ==",
    "2/aC3pBVYTVvPqkMBe0K/4Qd8u3MTbP9IItZ4knYUyxdL8FjrFBdijZMvU8oC0tb0bGi5h8g0a9L/Da+3AomLvkVm3VcV1uZ4uYh8/6t76wVLcm9bSyggAeggCz7WAcS",
    "+0AzMkXNBjlGwIOywaqjlQ==",
    "QU+t2QyEb2NCxxn3BJPRBfbm3wsuqryqtbO5ybJgqqRhLz23G6/gWpRy29h++xfWz2gtOKyfr5r1XK3+dqvn5A==",
    "hdEcPtuR3sGHXvoTPgL1mpK1TfCuCCdTIFMOV7H2+LT2W6B3fSfn1wsNIAu4v/NbB5oYYS/Uo7HxkbYRE3uFkQ==",
    "7Il+5MOfXCC5zE2ZWwBiA45IK2MZXsf9kP+r6yCGs7j/GO/EZP99UM5BMovZnHjj",
    "s80i7uslhZbyMoHnViPiPjmhi1SJcnXU8ilDZjvptrc=",
    "+0AzMkXNBjlGwIOywaqjlQ==",
    "eKRNqylIWdokgfvilaIkWJlXg90ng/yX4XfmmDwdv+oREYMMjQO+v8h6iVoEV4vYVSBvtV2vcQ+XinzjlEQQynzfG76Fotl9ZixROBT/ezz7POKDOaMmR4JN+yJxbiIzRf0I7qOQi7mKqbwPC32Rtv8l5xVPPJMY9ZedlcTOhnaStPmLRabF2tRlA5sNagDQ",
    "Wi0pO9q+uuVGzWe4/OGPz/E5yY+9Dglv94ClUl4KtR898Sk3+THu/bAvkTJzp1m2wL1TAhsXEvJnhV9464DWuw0CHBIW3Vi7N85+CW+bHjVascS6/ZiblHD1gloRaG7rnsh8ujPKjhWA5adB5/AWQA=="
   ]
  },
  {
   "cell_type": "markdown",
   "id": "aa679693-f4d5-493b-ac73-3533f3a9493f",
   "metadata": {},
   "source": [
    "Постройте сеть с такой архитектурой:\n",
    "```\n",
    "convolution2dLayer: 32, 3x3, 'Padding'=1\n",
    "reluLayer\n",
    "maxPooling2dLayer: 2, 'Padding'=0\n",
    "\n",
    "convolution2dLayer: 32, 3x3, 'Padding'=1\n",
    "reluLayer\n",
    "maxPooling2dLayer: 2, 'Padding'=0\n",
    "       \n",
    "convolution2dLayer: 64, 3, 'Padding'=1\n",
    "reluLayer\n",
    "maxPooling2dLayer: 2, 'Padding'=0\n",
    "\n",
    "fullyConnectedLayer: 128\n",
    "reluLayer \n",
    "fullyConnectedLayer: num_classes\n",
    "softmaxLayer\n",
    "```\n",
    "\n",
    "Изображения цветные, поэтому для первого слоя с конволюцией укажите параметр `data_format='channels_last'`.\n",
    "При обучении используйте 15 эпох, размер батча 128, оптимизатор градиентного спуска - SGD.\n",
    "Также можно использовать любую другую архитектуру, объяснив целесообразность её применения.\n",
    "Протестируйте работу данной сети.\n",
    "Время обучения сети 5-10 минут."
   ]
  },
  {
   "cell_type": "code",
   "execution_count": null,
   "id": "faf79a49-540f-4df0-a77a-d5c3697e9af7",
   "metadata": {},
   "outputs": [],
   "source": [
    "n0MSOXfZeQGOkObHf5wb0A==",
    "+0AzMkXNBjlGwIOywaqjlQ==",
    "OEkZ9J+RCtE0ESHcJfqLHbka2w4QepjvLclViliRiE9BKfBDTrPbQwAgHnROlsSJ",
    "yX2e1aNP4T0knk8ylaBIO/Ru7XLpq/bF9wlR6WlIkb6Rvb3h85EEUHH1eYpIRd+XKHGOiLTqihrjV6NvvSvczg==",
    "atb/ouqDGSV4AbhSMu7a/iSiebavK3MgzGS9IZ2jZQJPZ+aE+yhz6juhmaihedVxNF14X6P41ZBAwQuIDsRK2AJdtqzYs8+ckWbc+useYFbR+Zbpc7kXmS31acCe++Pw4lajPVuOItEYnmWjOqbmqxRAWftm3G9E49BQa5ufZgTAAfl1T9+IS6Iqi3nun5xv",
    "atb/ouqDGSV4AbhSMu7a/jDopdlHZ4Jt8aXjwHcvHIar+LFZVSa4DugUgkdrDMT2rtUaYzr+JSlqJG8OEm5ZY+sxVFFO9qu7ibmD/Wc+fnM=",
    "atb/ouqDGSV4AbhSMu7a/iSiebavK3MgzGS9IZ2jZQJPZ+aE+yhz6juhmaihedVxNF14X6P41ZBAwQuIDsRK2AJdtqzYs8+ckWbc+useYFaV5U/W6XkSP7Jbs4ZU+aclSVtCrfG7jXq+ev1SCpjN4g==",
    "atb/ouqDGSV4AbhSMu7a/jDopdlHZ4Jt8aXjwHcvHIar+LFZVSa4DugUgkdrDMT2rtUaYzr+JSlqJG8OEm5ZY+sxVFFO9qu7ibmD/Wc+fnM=",
    "atb/ouqDGSV4AbhSMu7a/iSiebavK3MgzGS9IZ2jZQLS5aYw7ufiYLwkbPYCffnmdd+cLwz14hE7vlcNpn4IVfF2+aPHlXyw5KpQXxFQ0ZfmFm3mFW/X4Rw1Y+yKihr+nVZ5olyb4bT1CIY6hpJLGA==",
    "atb/ouqDGSV4AbhSMu7a/jDopdlHZ4Jt8aXjwHcvHIar+LFZVSa4DugUgkdrDMT2rtUaYzr+JSlqJG8OEm5ZY+sxVFFO9qu7ibmD/Wc+fnM=",
    "atb/ouqDGSV4AbhSMu7a/uFK0TQuXGjVWt0z5scRVv1NvIc47jlb/vjjTJO+6+GW",
    "atb/ouqDGSV4AbhSMu7a/vaFES99Yn7vVhjiGZIAFr81cCi90rjcJviBh8XfWJ5xYDbpj66kBN1HPC9MTg1hpA==",
    "WRySZj+bVnrYNEmHUIuuKaBPwr06z07Edc/cFgeeDhmttAVZowmWc3Lv/cX4WQbMwlQsC3mW8QQCIRpJjnbPrV5k82Kt5kT+VUThAtF5eE9Dw4wRyR+611PWvIp8LuMf",
    "B5l8tk0WUt+7QeBVBG2SMw==",
    "BP5dkNau+03wr8upNRo5x+6NHnOtQUYqqpS6qTeE4x+/HWu9rhU7EaRvJvZFBT0c",
    "I95jtsv+XIeD79EZuPjl9iI+UxFz1BPQq9ytybX8hz/wbf7nkohLyI3IsT4jgFJQO7KzytWdt3R9iRdlRyNKcOWwpAZpJX44hzKnCrbOc8TclETUIXtYWX1Ii+sOEmMMF64uqOyGnZhTwpzsiG0NYA==",
    "JqV1CHvIsR5JePUQ3EfbIZRljCt/dVU2SNn1PpXZ0pY=",
    "/L1oHj/SmH7uuWlIA+DccEm7iTkuP8IgmTTbp/Moues=",
    "+0AzMkXNBjlGwIOywaqjlQ==",
    "D/G6x+0Y/pahDJMZJJv4YWDy6muFbXwdriT5Y7uX5aRpr/gQfu8lxhSwh2pXI1nt",
    "eF1KSMnKSE1idlVGWO4rtOBGo2kSxBaNWpn0bWwndxk3vugfAKCVeSKPVtk5CpeCY9fqVSz/XRg8s1oOFAdwrfWR52XKYPMfJuKw5p9kXR3pRHBk8sc47jH0KW6EoLON5m9yt3NEHHTsnP7SnCqn6g==",
    "Ctc1pdxU4/CK532XSRbd0jVVo2irJbIYxSeQc3qRKJa96DT9Wew5ifENBiRVozhMNmq8VKJVip3kUvnzEi1x/w==",
    "TBaEllt8Bv0nlxNM+zSO0asTXMGVl7nJkSqeM2cqA8YdVh0psNWrL/y0KS48iS4E"
   ]
  },
  {
   "cell_type": "markdown",
   "id": "21fb3c46-760a-4604-81be-cf95b4991afd",
   "metadata": {},
   "source": [
    "**Вопросы:**\n",
    "\n",
    "1. Какую точность классификации удалось получить?\n",
    "1. Какие слои не имеют параметров обучения? Почему?\n",
    "1. Какую размерность имеют входные изображения?"
   ]
  },
  {
   "cell_type": "markdown",
   "id": "557af9bf-f856-47bb-8779-a8061354768e",
   "metadata": {},
   "source": [
    "**Ответы:**\n",
    "\n",
    "1. ...\n",
    "1. ..."
   ]
  },
  {
   "cell_type": "markdown",
   "id": "ea3c5539-5262-47c6-a826-27cd38aed25e",
   "metadata": {},
   "source": [
    "## Задание №5\n",
    "\n",
    "Попробуйте улучшить точность классификации, добавив нормализацию после свёрточных и полносвязных слоёв."
   ]
  },
  {
   "cell_type": "code",
   "execution_count": null,
   "id": "b1e02226-9d21-422d-9222-4720f5b40ae3",
   "metadata": {},
   "outputs": [],
   "source": [
    "n0MSOXfZeQGOkObHf5wb0A==",
    "+0AzMkXNBjlGwIOywaqjlQ==",
    "OEkZ9J+RCtE0ESHcJfqLHYMrX2fyNpgKLbL9TYJVae7UVbTQHuHHhZW00yiKIE7v",
    "yX2e1aNP4T0knk8ylaBIO/Ru7XLpq/bF9wlR6WlIkb6Rvb3h85EEUHH1eYpIRd+XKHGOiLTqihrjV6NvvSvczg==",
    "atb/ouqDGSV4AbhSMu7a/iSiebavK3MgzGS9IZ2jZQJPZ+aE+yhz6juhmaihedVxNF14X6P41ZBAwQuIDsRK2AJdtqzYs8+ckWbc+useYFbR+Zbpc7kXmS31acCe++Pw4lajPVuOItEYnmWjOqbmqxRAWftm3G9E49BQa5ufZgTAAfl1T9+IS6Iqi3nun5xv",
    "atb/ouqDGSV4AbhSMu7a/jDopdlHZ4Jt8aXjwHcvHIar+LFZVSa4DugUgkdrDMT2rtUaYzr+JSlqJG8OEm5ZY+sxVFFO9qu7ibmD/Wc+fnM=",
    "atb/ouqDGSV4AbhSMu7a/lYTbWBycb1Z2qrspjHLdRTlGlZMe5UIxnUpzos9wjDK6nh4Ge3MicBkzRtdr0468A==",
    "atb/ouqDGSV4AbhSMu7a/iSiebavK3MgzGS9IZ2jZQJPZ+aE+yhz6juhmaihedVx8rRGVIGzI0jQNEljpz/218zyIgAo+hEMcIE63eMw10wH9HIrvDMZnOe20ctTcWOuOBSiyJUoewdgfFGWvIvwvg==",
    "atb/ouqDGSV4AbhSMu7a/jDopdlHZ4Jt8aXjwHcvHIar+LFZVSa4DugUgkdrDMT2rtUaYzr+JSlqJG8OEm5ZY+sxVFFO9qu7ibmD/Wc+fnM=",
    "atb/ouqDGSV4AbhSMu7a/lYTbWBycb1Z2qrspjHLdRTlGlZMe5UIxnUpzos9wjDK6nh4Ge3MicBkzRtdr0468A==",
    "atb/ouqDGSV4AbhSMu7a/iSiebavK3MgzGS9IZ2jZQLS5aYw7ufiYLwkbPYCffnmAriEDxdZhNHXs0lADIKBI908vrlP8nAdS6YH7ci1/3GafGSM9kgA82+BRbjJfDP4L/34S4/jUD1fWoGMZB9ZRQ==",
    "atb/ouqDGSV4AbhSMu7a/jDopdlHZ4Jt8aXjwHcvHIar+LFZVSa4DugUgkdrDMT2rtUaYzr+JSlqJG8OEm5ZY+sxVFFO9qu7ibmD/Wc+fnM=",
    "atb/ouqDGSV4AbhSMu7a/lYTbWBycb1Z2qrspjHLdRTlGlZMe5UIxnUpzos9wjDK6nh4Ge3MicBkzRtdr0468A==",
    "atb/ouqDGSV4AbhSMu7a/uFK0TQuXGjVWt0z5scRVv1NvIc47jlb/vjjTJO+6+GW",
    "atb/ouqDGSV4AbhSMu7a/vaFES99Yn7vVhjiGZIAFr81cCi90rjcJviBh8XfWJ5xYDbpj66kBN1HPC9MTg1hpA==",
    "atb/ouqDGSV4AbhSMu7a/lYTbWBycb1Z2qrspjHLdRTlGlZMe5UIxnUpzos9wjDK6nh4Ge3MicBkzRtdr0468A==",
    "WRySZj+bVnrYNEmHUIuuKaBPwr06z07Edc/cFgeeDhmttAVZowmWc3Lv/cX4WQbMwlQsC3mW8QQCIRpJjnbPrV5k82Kt5kT+VUThAtF5eE9Dw4wRyR+611PWvIp8LuMf",
    "B5l8tk0WUt+7QeBVBG2SMw==",
    "BP5dkNau+03wr8upNRo5x+6NHnOtQUYqqpS6qTeE4x+/HWu9rhU7EaRvJvZFBT0c",
    "I95jtsv+XIeD79EZuPjl9iI+UxFz1BPQq9ytybX8hz/wbf7nkohLyI3IsT4jgFJQO7KzytWdt3R9iRdlRyNKcOWwpAZpJX44hzKnCrbOc8TclETUIXtYWX1Ii+sOEmMMF64uqOyGnZhTwpzsiG0NYA==",
    "JqV1CHvIsR5JePUQ3EfbIZRljCt/dVU2SNn1PpXZ0pY=",
    "/L1oHj/SmH7uuWlIA+DccEm7iTkuP8IgmTTbp/Moues=",
    "+0AzMkXNBjlGwIOywaqjlQ==",
    "D/G6x+0Y/pahDJMZJJv4Ycl+XEPnlJ9nJMOMqYxkkVviy2y7JqcI8vwUyInq5Tv6",
    "eF1KSMnKSE1idlVGWO4rtOBGo2kSxBaNWpn0bWwndxk3vugfAKCVeSKPVtk5CpeCY9fqVSz/XRg8s1oOFAdwrfWR52XKYPMfJuKw5p9kXR3pRHBk8sc47jH0KW6EoLON5m9yt3NEHHTsnP7SnCqn6g==",
    "Ctc1pdxU4/CK532XSRbd0jVVo2irJbIYxSeQc3qRKJa96DT9Wew5ifENBiRVozhMNmq8VKJVip3kUvnzEi1x/w==",
    "TBaEllt8Bv0nlxNM+zSO0asTXMGVl7nJkSqeM2cqA8YdVh0psNWrL/y0KS48iS4E"
   ]
  },
  {
   "cell_type": "markdown",
   "id": "cf599488-8def-4da3-b1ce-1bb04ef391e6",
   "metadata": {},
   "source": [
    "**Вопросы:**\n",
    "\n",
    "1. Удалось ли увеличить точность классификации введением новых слоёв?\n",
    "1. Как изменилось время обучения сети? (Обратите внимание на `Wall time`, `total`, а также на время обучения каждой эпохи)"
   ]
  },
  {
   "cell_type": "markdown",
   "id": "79d69eb6-f482-45d2-a98a-d0150232bc8f",
   "metadata": {},
   "source": [
    "**Ответы:**\n",
    "\n",
    "1. ...\n",
    "1. ..."
   ]
  },
  {
   "cell_type": "markdown",
   "id": "1f1aebb6-0c46-40e4-8038-5ef26ab23148",
   "metadata": {},
   "source": [
    "## Задание №6\n",
    "\n",
    "Попробуйте добавить слой dropout `tf.keras.layers.Dropout(<probability>)` после полносвязного слоя, подобрав оптимальную на Ваш взгляд вероятность удаления нейронов.\n",
    "Поэкспериментируйте с добавлением слоёв BatchNormalization и без них."
   ]
  },
  {
   "cell_type": "code",
   "execution_count": null,
   "id": "adfc2164-e004-4f90-ae89-6718229f0345",
   "metadata": {},
   "outputs": [],
   "source": [
    "n0MSOXfZeQGOkObHf5wb0A==",
    "+0AzMkXNBjlGwIOywaqjlQ==",
    "OEkZ9J+RCtE0ESHcJfqLHYR2MLckqxlHRPmLKayKrj0PVnhwTIw3+593GUZ+JHkn",
    "yX2e1aNP4T0knk8ylaBIO/Ru7XLpq/bF9wlR6WlIkb6Rvb3h85EEUHH1eYpIRd+XKHGOiLTqihrjV6NvvSvczg==",
    "atb/ouqDGSV4AbhSMu7a/iSiebavK3MgzGS9IZ2jZQJPZ+aE+yhz6juhmaihedVxNF14X6P41ZBAwQuIDsRK2AJdtqzYs8+ckWbc+useYFbR+Zbpc7kXmS31acCe++Pw4lajPVuOItEYnmWjOqbmqxRAWftm3G9E49BQa5ufZgTAAfl1T9+IS6Iqi3nun5xv",
    "atb/ouqDGSV4AbhSMu7a/jDopdlHZ4Jt8aXjwHcvHIar+LFZVSa4DugUgkdrDMT2rtUaYzr+JSlqJG8OEm5ZY+sxVFFO9qu7ibmD/Wc+fnM=",
    "atb/ouqDGSV4AbhSMu7a/lYTbWBycb1Z2qrspjHLdRTlGlZMe5UIxnUpzos9wjDK6nh4Ge3MicBkzRtdr0468A==",
    "atb/ouqDGSV4AbhSMu7a/iSiebavK3MgzGS9IZ2jZQJPZ+aE+yhz6juhmaihedVx8rRGVIGzI0jQNEljpz/218zyIgAo+hEMcIE63eMw10wH9HIrvDMZnOe20ctTcWOuOBSiyJUoewdgfFGWvIvwvg==",
    "atb/ouqDGSV4AbhSMu7a/jDopdlHZ4Jt8aXjwHcvHIar+LFZVSa4DugUgkdrDMT2rtUaYzr+JSlqJG8OEm5ZY+sxVFFO9qu7ibmD/Wc+fnM=",
    "atb/ouqDGSV4AbhSMu7a/lYTbWBycb1Z2qrspjHLdRTlGlZMe5UIxnUpzos9wjDK6nh4Ge3MicBkzRtdr0468A==",
    "atb/ouqDGSV4AbhSMu7a/iSiebavK3MgzGS9IZ2jZQLS5aYw7ufiYLwkbPYCffnmAriEDxdZhNHXs0lADIKBI908vrlP8nAdS6YH7ci1/3GafGSM9kgA82+BRbjJfDP4L/34S4/jUD1fWoGMZB9ZRQ==",
    "atb/ouqDGSV4AbhSMu7a/jDopdlHZ4Jt8aXjwHcvHIar+LFZVSa4DugUgkdrDMT2rtUaYzr+JSlqJG8OEm5ZY+sxVFFO9qu7ibmD/Wc+fnM=",
    "atb/ouqDGSV4AbhSMu7a/lYTbWBycb1Z2qrspjHLdRTlGlZMe5UIxnUpzos9wjDK6nh4Ge3MicBkzRtdr0468A==",
    "atb/ouqDGSV4AbhSMu7a/uFK0TQuXGjVWt0z5scRVv1NvIc47jlb/vjjTJO+6+GW",
    "atb/ouqDGSV4AbhSMu7a/vaFES99Yn7vVhjiGZIAFr81cCi90rjcJviBh8XfWJ5xYDbpj66kBN1HPC9MTg1hpA==",
    "atb/ouqDGSV4AbhSMu7a/lYTbWBycb1Z2qrspjHLdRTlGlZMe5UIxnUpzos9wjDK6nh4Ge3MicBkzRtdr0468A==",
    "atb/ouqDGSV4AbhSMu7a/ijBysPGL439AULdbJ7553h+Gbzbe/w4uWzUiikwGIUc",
    "WRySZj+bVnrYNEmHUIuuKaBPwr06z07Edc/cFgeeDhmttAVZowmWc3Lv/cX4WQbMwlQsC3mW8QQCIRpJjnbPrV5k82Kt5kT+VUThAtF5eE9Dw4wRyR+611PWvIp8LuMf",
    "B5l8tk0WUt+7QeBVBG2SMw==",
    "BP5dkNau+03wr8upNRo5x+6NHnOtQUYqqpS6qTeE4x+/HWu9rhU7EaRvJvZFBT0c",
    "I95jtsv+XIeD79EZuPjl9iI+UxFz1BPQq9ytybX8hz/wbf7nkohLyI3IsT4jgFJQO7KzytWdt3R9iRdlRyNKcOWwpAZpJX44hzKnCrbOc8TclETUIXtYWX1Ii+sOEmMMF64uqOyGnZhTwpzsiG0NYA==",
    "JqV1CHvIsR5JePUQ3EfbIZRljCt/dVU2SNn1PpXZ0pY=",
    "/L1oHj/SmH7uuWlIA+DccEm7iTkuP8IgmTTbp/Moues=",
    "+0AzMkXNBjlGwIOywaqjlQ==",
    "D/G6x+0Y/pahDJMZJJv4Ycc5b0y+08I/U02Fugh0ZC7NSal8OdswHTYs2KqPO00r",
    "eF1KSMnKSE1idlVGWO4rtOBGo2kSxBaNWpn0bWwndxk3vugfAKCVeSKPVtk5CpeCY9fqVSz/XRg8s1oOFAdwrfWR52XKYPMfJuKw5p9kXR3pRHBk8sc47jH0KW6EoLON5m9yt3NEHHTsnP7SnCqn6g==",
    "Ctc1pdxU4/CK532XSRbd0jVVo2irJbIYxSeQc3qRKJa96DT9Wew5ifENBiRVozhMNmq8VKJVip3kUvnzEi1x/w==",
    "TBaEllt8Bv0nlxNM+zSO0asTXMGVl7nJkSqeM2cqA8YdVh0psNWrL/y0KS48iS4E"
   ]
  },
  {
   "cell_type": "markdown",
   "id": "5242db5e-3a66-432e-b2b2-826081cbab7e",
   "metadata": {},
   "source": [
    "**Вопросы:**\n",
    "\n",
    "1. Удалось ли увеличить точность классификации?\n",
    "1. Что влияет больше на увеличение точности: слой Dropout или BatchNormalization?\n",
    "1. Как изменилось время обучения?"
   ]
  },
  {
   "cell_type": "markdown",
   "id": "bc745752-004c-430b-9dd2-42b1adda677f",
   "metadata": {},
   "source": [
    "**Ответы:**\n",
    "\n",
    "1. ...\n",
    "1. ..."
   ]
  }
 ],
 "metadata": {
  "kernelspec": {
   "display_name": "Python3",
   "language": "python",
   "name": "python3"
  },
  "language_info": {
   "codemirror_mode": {
    "name": "ipython",
    "version": 3
   },
   "file_extension": ".py",
   "mimetype": "text/x-python",
   "name": "python",
   "nbconvert_exporter": "python",
   "pygments_lexer": "ipython3",
   "version": "3.9.6"
  }
 },
 "nbformat": 4,
 "nbformat_minor": 5
}
