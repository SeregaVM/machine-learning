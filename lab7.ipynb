{
 "cells": [
  {
   "cell_type": "markdown",
   "id": "aed27b27-e9fb-4d50-b959-b44a59b94a0a",
   "metadata": {},
   "source": [
    "# Лабораторная работа №7. Решающие деревья. Усиление распознавателей\n",
    "\n",
    "В данной лабораторной работе рассматривается использование бинарных распознающих деревьев и их ансамблей для решения задачи классификации.\n",
    "\n",
    "Распознающим бинарным деревом называется дерево, с каждой вершиной $v$ которого связаны:\n",
    "\n",
    "1. Некоторое подмножество $\\mathcal{X}_v \\subset \\mathcal{X}$;\n",
    "1. Подвыборка $\\mathcal{D}_v \\subset \\mathcal{D}$ обучающей выборки $\\mathcal{D}$, такая, что\n",
    "$$\n",
    "    \\mathcal{D}_v = \\left\\{(\\mathbf{x}, t) \\in \\mathcal{D} \\,\\vert\\, \\mathbf{x} \\in \\mathcal{X}_v\\right\\};\n",
    "$$\n",
    "1. Некоторое правило $f_v: \\mathcal{X} \\to \\{0, 1\\}$, определяющее разбиение множества $\\mathcal{X}$ на $K$ непересекающихся подмножеств.\n",
    "\n",
    "Цель построения дерева решений состоит либо в классификации векторов $\\mathbf{x}$, либо в оценке математического ожидания отклика при данном значении $\\mathbf{x}$.\n",
    "Процесс принятия решения начинается с корневой вершины и состоит в последовательном применении правил, связанных с вершинами дерева.\n",
    "Результатом этого процесса является определение терминальной вершины $v$, такой что $\\mathbf{x} \\in \\mathcal{X}_v$.\n",
    "\n",
    "Распознающие деревья редко применяют в качестве самостоятельного распознавателя, так как хорошего качества распознавания от них редко удается добиться.\n",
    "Вместо этого их широко применяют в качестве «сырья» в методах усиления распознавателей, где синтез решения отдельных классификаторов, составляющих ансамбль, осуществляется путем их голосования.\n",
    "\n",
    "Метод баггинга основан на формировании обучающей выборки для каждого классификатора ансамбля с помощью бутстрепа, то есть случайной выборки с возвращениями из исходной обучающей выборки.\n",
    "\n",
    "Суть метода случайных лесов заключается в том, что для каждого дерева ансамбля на стадии расщепления вершин используется только некоторое подмножество случайно отбираемых признаков.\n",
    "Чаще всего размерность такого подмножества выбирается близкой к $\\sqrt{p}$, где $p$ $-$ размерность всего пространства признаков.\n",
    "\n",
    "Идея метода бустинга состоит в том, что классификаторы ансамбля строятся последовательно, и на каждой итерации происходит коррекция (перевзвешивание) образов обучающей выборки.\n",
    "Коррекция осуществляется таким образом, чтобы соответствующий классификатор дал меньше ошибок на тех образах, на которых часто делали ошибки классификаторы, построенные на предыдущих итерациях алгоритма.\n",
    "Кроме того, каждому классификатору приписывается некоторый вес исходя из количества допущенных им ошибок."
   ]
  },
  {
   "cell_type": "code",
   "execution_count": null,
   "id": "7863a49f-3310-40c5-973c-0551fcffb7fd",
   "metadata": {},
   "outputs": [],
   "source": [
    "BYzKNd9ENEbzdofCaHAg3r34cVfqEmkAXeqXJUkvpyk=",
    "k/2D8Q++FCM6xdjebxKaF7YKXryLZMZjlpmrxGVautg=",
    "9s36UbhtKx8sdGbDtIGjp2xMfnXzfZ54knKniVDBkOc=",
    "/G9pwlY5xoaW4bPSUY9Sl1AIEKp0OoZ8JDdbsUdzR2NcUsytvhyBQtqDm3LtB1CT",
    "wHYhuJe506sEMqMFyhYVRtDJkuq9oi4np2k/sSkrqCU=",
    "d0tQvI9adBPbN2eH0WJTcQ/LOz/EfCDtuAGmT89bqdQ=",
    "mutw8uGy6SdQGs4HZtUxTNxYrZJbrD2atIOlH86vB4g=",
    "mutw8uGy6SdQGs4HZtUxTPgFXVGJnDrjZmt8RZbjjVSGeD/KpQz56P+H03IjlNTx",
    "+0AzMkXNBjlGwIOywaqjlQ==",
    "IIlwJEtNoBvWm7UJwtoJR3r5BsFA/LDARQCR0cpFqPdZ857Tf6PXtjnoiKh0XrBk",
    "9mLQLYaS3YTsgZ1j9GFGn0+Tvkxsp5i+QLHZ2YUnpcOsjU1Edd83ANIz4VNtrKvfDSRMYSLu5nc8S5Z/ZEKnWQ=="
   ]
  },
  {
   "cell_type": "markdown",
   "id": "c2fc48cd-20bc-4ffb-9113-1c7206a316ec",
   "metadata": {},
   "source": [
    "## Задание №1\n",
    "\n",
    "Сгенерируйте датасет с 2 признаками размеро 3000 строк (`n_informative=2`, остальные параметры следует установить в 0).\n",
    "В качестве `random_state` используйте свой порядковый номер в списке.\n",
    "Разделите датасет на обучающую и тестовую выборки.\n",
    "Размер тестовой выборки следует выбрать равным 20% от размера всей выборки.\n",
    "Не забывайте про параметр `random_state` для повторяемости результатов."
   ]
  },
  {
   "cell_type": "code",
   "execution_count": null,
   "id": "b49e0fdc-0dd3-4444-bb52-d2945cdccd9f",
   "metadata": {},
   "outputs": [],
   "source": [
    "gc03TdtlhhZ4i9O1ssAWlG1dd55XxFBwDKVrM5VAMTB56kPhY9aaVK6mXwLM/f6U4hHgJq+qyx6Rb8+hJ2goN8groJgCqi7dtQnByb8oir+3oQ3r4uCcAlykSu/BZEviXhrBLaujlrpg+J2ZgqRcpr/wQJxR8ft9AAHkX5zGLLnBodlTH3dev1SWnHDbh174",
    "y7MK+QG8G5wdZtM2d5PA/bTyKzS7Qsf2+GENiZmV9Wlw/jnXEu0d4t0C9gqN32cYa1buwDWiSKzerAvbe+H7MD3utKGdxTFhJaZqvuABe13T7hq537o7sOPRlDqKmDtZjd1VGBqUMFr8uq4Gq7Ys0Q==",
    "2/aC3pBVYTVvPqkMBe0K/3Vb0RnYc4GYeYEgXKr0/B3byKim5p80Frd2ovlTcmBZ",
    "+0AzMkXNBjlGwIOywaqjlQ==",
    "5hyQreqU6mVhfswG1Ci38pz+a3o3cs5BRZOOoTti+XgwwDdER3y8uAcmoaNBDyAv7PvpJ7NgPHocapy9vKrBJg==",
    "Ih8pNaUXm2w3N30B9lgffZLfZga5A1nHuR4NAewV7K91O6GWiDcFlhr+HwzzncOFjm+dZbiyX+mQUdFWcPjnBg==",
    "JwgDj5jxAgF3Mumgd4TzunIhHb6LbyPQhehZB1frJGjugLmNdMgCug/b/DRMxQcPJMo0Q9aNuCXk1SUry9OxBRt9QUdAjppFKXl8YPHC+T4=",
    "/mXt/jqM07sm1kPRCVNmd0hTnZziktg+QG7ywm2URp/bdeccWSsonQWoCNDDhyVWkh9WSlkp6qGrwqojjYQYdw==",
    "Bnr22ZJp0q7haZhmE2QqLc6LQ9V4gnlHpBDz25UG3g2Zuc2YXOdfiWlbfNMjebPc6svK0bbs2lywpotwv6ad8TUCtStz826ZFZ1TgeQjOBQ="
   ]
  },
  {
   "cell_type": "markdown",
   "id": "24dbfb6c-a61b-41dd-832f-91892d5af0ea",
   "metadata": {},
   "source": [
    "## Задание №2\n",
    "\n",
    "Найдите наилучшие параметры решающего дерева `DecisionTreeClassifier`.\n",
    "Для этого постройте графики зависимостей _accuracy_ от сложности модели (максимального числа разделений) для обучающей и тестовой выборок.\n",
    "После чего выберите оптимальное значение сложности модели.\n",
    "\n",
    "**Замечание.**\n",
    "Оптимальные параметры следует выбирать по наилучшему значению на тестовой выборке.\n",
    "Если в исследуемой зависимости наблюдается несколько пиков с наилучшим значением, то стоит принять в рассмотрение также результат на обучающей выборке."
   ]
  },
  {
   "cell_type": "code",
   "execution_count": null,
   "id": "0fee6aff-b6b7-43e1-af76-263806264cc3",
   "metadata": {},
   "outputs": [],
   "source": [
    "SFJTn6zTgT3/lovPn6LBNpYgKTiT69DZp47Zh/DAdy0=",
    "jFpanPxUydLvCl0N8fpqYOyLjm2OAtb6Fk6U9Jpz3JLFUdjWsys2zDJfh8Cf/TJY",
    "QUFE+qdo8npI5uw9NACl8SycoAsMFhf2RuDucGkXHKm1/CE3Izc8dQTgUFaVF0tUJ8iZ1Iamhclac7NVjL6RVBU1jtl66SO85WqN/SnXpfs=",
    "WhHoXjT0QPhRwNoj7M/kcdricx7LCMtJGldjwgILiMZQVdKWnnVuY3LSIf9u947G",
    "mKXq9iGaPK3B9mTkQRI90RfSA0WMPiFuuxjdaR9EClvXMqWKv4OrdSyhICb66BO2",
    "igI3ORv4SO7lAubHJIY4tn91AOk98rai0+FxycduFKw=",
    "B1N3Z0QCL2bXCIaP8oadCjQJIcYLRCXt4bFok+u6yCoITyV+39Y1/zKlB3htDj/3wQ8Z+2xo7lkVN7+xa9b5QWxAmgs5GZvzvTW6k8YoI7R2bczjPWhLEZYrJCz+iV+SvNHDfOPJBVbMg15Xdhtm/g==",
    "ravHXFJXoE6ZutsDyjJiVAHMaF0pFBwJEMch3RWPLgP4P7D3EFRfIZDfee95JxY3",
    "QX2Q7ldN5ojoROt6B7tnEmi5y7FQnc6WJu4179URrwNWqZQRd0LXgGpdw522IIDNwcolRCMer/dkm1lTw4vXgg==",
    "QX2Q7ldN5ojoROt6B7tnElR09IrWtvdzNRIrf1zPr4DqrdfgYU53jitIHe1JnPIVglCr+bUkG7y014J2SreF+g==",
    "+0AzMkXNBjlGwIOywaqjlQ==",
    "TNapSYhH1DXyvh/gxO15YsXLu6rF7ebEgPh3EsgK7ZExx+Im3DhjBptHMtxpbV5KyWWMGEgXW0ipUHUwqfSrCQ==",
    "TNapSYhH1DXyvh/gxO15YsXLu6rF7ebEgPh3EsgK7ZHPvpghfhoTfMs9CnDNxOB6OUEXI611jnr3prvKkWsXNA==",
    "0dqn11rJ2dZQVvEwnsUE7RHq6o/7cbZuVA2RtnIPW4mn41XCGrfr3O4xoizvourY76t/+KwSwlJYaftJ0bfan9f/X95E5fsgqDBHqIMZ1uQFv56Vj2Ka2GpeBtC87rKxnCwwPNPnReT1b9Th9N0LApH36zk0mkaLRaCIpznztfs=",
    "mGQyO0la5fngsO5/C13aH2LvD7LP8h8LvrHFzLdcD64=",
    "B5l8tk0WUt+7QeBVBG2SMw==",
    "mgfrPbvUWCG9YX1JESweXHCYwWDIRslsLuhSSJiw7ORZYuSkbXH+8+VRVn8Zatfwby1vfDv4o/d7Bxe2xtMdKzBB8dbHxtEfgFFVy91S7WlQWWP7kFanDCl+CPeFsefV"
   ]
  },
  {
   "cell_type": "markdown",
   "id": "b222a799-7f87-425d-a863-a0717f25634a",
   "metadata": {},
   "source": [
    "**Вопросы:**\n",
    "\n",
    "1. Какие критерии были рассмотрены?\n",
    "1. Запишите полученную наилучшую точность и максимальное число разделений для каждого критерия.\n",
    "1. Какой критерий разделения дает наилучший результат?\n",
    "1. Наблюдается ли эффект переобучения (если да, то с чем он связан)?"
   ]
  },
  {
   "cell_type": "markdown",
   "id": "56a6c40f-2aa8-4b8f-a403-2ad3e9c02523",
   "metadata": {},
   "source": [
    "**Ответы:**\n",
    "\n",
    "1. ...\n",
    "1. ..."
   ]
  },
  {
   "cell_type": "markdown",
   "id": "2e8cf8c3-f990-4428-8181-72b97c29586f",
   "metadata": {},
   "source": [
    "Визуализируйте разделение пространства признаков для наилучшей модели."
   ]
  },
  {
   "cell_type": "code",
   "execution_count": null,
   "id": "981e9aca-55e3-46a0-826b-e90143607aab",
   "metadata": {},
   "outputs": [],
   "source": [
    "/BE6oEGq0JuxG4c6RMaLfRoxxv1ENIttCyhOa1iunpwNYJchsB5whH7cLJy2dkZNmKmDNBeDX+J849zSarutmOsypCtXmmePJ8JqBMAad74=",
    "tGJW9WKgELWX7q0nu65+UxFlxi4NuOp54VxDqkBukXqRHCsI1S+9laxMvnKMrY+GU5Rxjm1ohdA4V+XTB5J26F3vbR+e8Ctc6NE3UdkD6uM=",
    "VFXCsoK9o+BMNLpZdvZyARxGB3mRopXS5GHp1f40wtyZo67NDnsy8Owg5zm2biL+g7KnpRscUySiJm6XgTp85lLuheCQJyC4pfBiveFNb4B0KxYecveg/31nqT6d/K6v",
    "+0AzMkXNBjlGwIOywaqjlQ==",
    "rhBclGrIz8vk9o/5AV48L6z7IJFKuI8ygKp/2kh0BqovrXkaZh/hrE5oClx7ckBgXbksOnKuyOvcYoBOmgpZyF1hPyoakHvQBqHp+xjKwjf6YtXw3Ls2cy7itUY707HX6ehKvNPa9WVNnHLf7O+vMA==",
    "v5g+Nrf4vdvOOwrX+UBptHy7rhN3UpD/Puh8xSsKMwXYv2b0/1H4x321DC6SeaI2",
    "LU+TrXDJqPFyl/gw9TiFjiJUH/FNl08sBIHmZrvOW8SCFT9ACQEIpXYojGaDSsK61qnHWSi1unGCN6Ll3YCN/+vNBWXMcUwBNep4PoxaMZnb3Q1QFk/PA7iqBtQQAO6ZPEQVO9zN79+mO98MSl1oiA==",
    "sVYN2BzpelBNFTdZOwIeMHMtMD3QjoThwwvGJEIiOksfB92bBMaz36yv8LRoZLnQ/4eT1pguf4fTQYIbh+aQIwi72e2OkSFGXUUrQzYotaE=",
    "Q2ZZ5wsJzKMpBIMdsLiGvAWc7RgatsXmmmvGur9DH7dygooNWiywttOagXndTmV4eEJT8zGfryGwuepVLSdXmA=="
   ]
  },
  {
   "cell_type": "markdown",
   "id": "1ed67985-59d5-450e-a438-f0dd3926baea",
   "metadata": {},
   "source": [
    "**Вопросы:**\n",
    "\n",
    "1. Чем характерно отличается полученное разбиение от тех вариантов, что получались в прошлых лабораторных работах?"
   ]
  },
  {
   "cell_type": "markdown",
   "id": "5f401319-7341-42e7-b421-35bd261ff2a0",
   "metadata": {},
   "source": [
    "**Ответы:**\n",
    "\n",
    "1. ..."
   ]
  },
  {
   "cell_type": "markdown",
   "id": "93e69e84-c0db-4591-a9aa-0c64d39a0577",
   "metadata": {},
   "source": [
    "## Задание №3\n",
    "\n",
    "Найдите наилучшие параметры ансамбля, полученного баггингом `BaggingClassifier`.\n",
    "Для этого воспользуйтесь функцией `GridSearchCV` с указанием кросс-валидации.\n",
    "Рассмотрите такие параметры перебора:\n",
    "\n",
    "* Максимальное число разделений (от 1 до 20)\n",
    "* Максимальное доля обучающей выборки\n",
    "* Количество деревьев в ансамбле (от 1 до 100)\n",
    "\n",
    "Шаг для перебора каждого из параметров можете выбрать самостоятельно.\n",
    "Визуализируйте разделение пространства признаков для наилучшей модели."
   ]
  },
  {
   "cell_type": "code",
   "execution_count": null,
   "id": "be3ed8e9-58e3-408e-8943-d9c1ad331cd7",
   "metadata": {},
   "outputs": [],
   "source": [
    "n0MSOXfZeQGOkObHf5wb0A==",
    "+0AzMkXNBjlGwIOywaqjlQ==",
    "CdGcyrZKo1zRLdkwuBVGOSjY/LmVsqpz/QPi7VLBUlA=",
    "8UXsBsp+VBRac41apyMiATKHeUA2UE9agocguLilNCfHdeWPxiiajGdFmx97oKX7AM+0zLm4uRZq/RfRoG6ogw==",
    "SbpyTOkgDIo+yxvyoluC67LtS0Wh179UDjZNz/Eem7GrisNvQ0VtDQcPGUN0nAPvcnWZg8VcMJcMu2W+1wDRDw==",
    "v/531LAOu/TXv+dkaUaJ/JaIBlGow4kP1bB4nIPOpoN74dDlpUhsVv1gKO39UMlZdiXb8VW/m0tEN480Xpq87A==",
    "+0AzMkXNBjlGwIOywaqjlQ==",
    "nw9K3Edw+mjXwCH0kJblyuLZjjDIfqRXoUYo5LVZ+X/RqVVkE5ZpfVGlrXKSY4pF/qINAl7uEGJkm0bjJRMNSbLStpDH2oyAQ8WEpjRaqxPS6K8r+R/Fo9OddnZY7SHMvvaK22pqt6YS2ug84p0b6LbQfEHr/Zkgdx/ihIBdSKgCvDRn+lISUHyjJuM0cA3V",
    "uGAfqQqHYeLnhk0OhindoZDT+xHUAissTHV3r0IZtlwdTdR72LZ4bka/T+tYqeM4rYFZcR1r5/E4mlqMmnKk1ox2CTkVj2HYurrcV67EErY/LRmyRgE648Tl5ynIviHoCW8/Uzb8zgps7oz6zIvePw==",
    "2/Oq05/mrtDkQjmc7N0NCHn5Ip0qnEeM/vrbUgnsYsQ=",
    "+0AzMkXNBjlGwIOywaqjlQ==",
    "zFJ5ltb4iYM/xfZDJSSfMRW56+JICVH4pZwJP0Wt20ItxVf+PzJEoP8Q/Sm6Z6sqHWeoYdu2gMh96eyhnTDnUnAUUMpBHUL8NxZ4juV9L5rtPZefr6nn55O3wzW0Rbft3RyLYzrXpPlGsHYid5/LnQ==",
    "sVYN2BzpelBNFTdZOwIeMHMtMD3QjoThwwvGJEIiOksfB92bBMaz36yv8LRoZLnQ/4eT1pguf4fTQYIbh+aQIwi72e2OkSFGXUUrQzYotaE=",
    "Q2ZZ5wsJzKMpBIMdsLiGvAWc7RgatsXmmmvGur9DH7dygooNWiywttOagXndTmV4mM/e3MNVTGIUyh1nZ12HUQ==",
    "+0AzMkXNBjlGwIOywaqjlQ==",
    "yWSVyFKhgDHVZRe0Fb41YMx0azO6fbW3qZopvSytDwI=",
    "4WlRqruT4bTPJrIDN7m/RRgK/Z9ZpJQ5lDGNrm+STKMYQ0iRtIgg/rgYast/AAvK",
    "D5eLKayjljIh6RT00qrHj9PU+tqUSmh05yj6mAEHtjp5y3TIMcZCzmaSZ/6XkZGl"
   ]
  },
  {
   "cell_type": "markdown",
   "id": "5675b855-a036-4941-b529-ce0f4bfcf085",
   "metadata": {},
   "source": [
    "**Вопросы:**\n",
    "\n",
    "1. Удалось ли увеличить качество модели по сравнению с одним распознающим деревом?\n",
    "1. Как и почему изменилась форма разделяющей поверхности?\n",
    "1. Как изменилась оптимальная сложность деревьев по сравнению с предыдущим заданием и с чем это связано?"
   ]
  },
  {
   "cell_type": "markdown",
   "id": "7f702da5-e1f0-4f1e-94b6-f90e240dc1f5",
   "metadata": {},
   "source": [
    "**Ответы:**\n",
    "\n",
    "1. ...\n",
    "1. ..."
   ]
  },
  {
   "cell_type": "markdown",
   "id": "4ddf36b8-90be-422a-bd11-7bd323f46a95",
   "metadata": {},
   "source": [
    "Проанализируйте зависимости _accuracy_ от конкретных параметров.\n",
    "Для этого используйте информацию из словаря `cv_results_`, беря во внимание полученные оптимальные параметры `best_params_`.\n",
    "Постройте графики зависимости среднего значения _accuracy_ для каждого из параметров, фиксируя остальные параметры в значениях, взятых из `best_params_`.\n",
    "Графики должны быть построены для обучающей и тестовой выборок, также показан разброс на тестовой выбоке (разброс вычисляется благодаря кросс-валидации)."
   ]
  },
  {
   "cell_type": "code",
   "execution_count": null,
   "id": "02105a3d-ddbb-45ed-9bdc-7a05a9f2664f",
   "metadata": {},
   "outputs": [],
   "source": [
    "yWSVyFKhgDHVZRe0Fb41YMx0azO6fbW3qZopvSytDwI=",
    "+0AzMkXNBjlGwIOywaqjlQ==",
    "QUFE+qdo8npI5uw9NACl8dRfhs5friZ5D6dW7cg1Ux+DuADcRomwWuVswfjzXUiZAIc6hyMVeQiQBxoyP8+3Jfw4gBj6XK6ba9rxZBZXN/rb5TNJGheqN7AKzQb6PaEI",
    "7KCRKfB07HRZ69eSOk+imRLcvEw8SdHX+7ixOLkxkMgCqJ+Hfw+rj/bhiC26YicZ+F2Ep0xA/Jn48RjzPDbH+Q==",
    "acgPqLjuwDy4tfayL/xNJSYDEyo68Xm5A1KpE2R5qJG0sA1kRkODuMwxN4eF61HVAkXmSBgJnIiUfvVtrB+MM+uNgBPR3n1AQXtFfaO5I9M=",
    "J+8ZBXMby4+vcFh/Sz+bW7pjCT4TWXuicxwUJc0Cz8Y64R75LC1WaWskNU8ibnis/NnA/OyP9OPAjQuMqGhVfcf2s+ykY5qzp4oHEm8L+KX+ry4SQIdrmveyBlFCGMD6q4gJUJxWvD2Yh281C/Tv5g==",
    "+0AzMkXNBjlGwIOywaqjlQ==",
    "Mkzfv9Ub5jGHJnMOs0N1xC9GCET6yB7jdfGI4rzxGmgHEFEj2ZY1hUZgok2bC321ZUjAO37ZAZmevapBFLjU+5qKTPg1rc23KV8p4gF3oy2w7nYzxwvSpzOYqfUdABotc2UdZy1DYoA/OaWZOTi119XlRwEfglIFrfFd8HUHEW8oC8F8RJMeVMIbMAZMujQo",
    "Vq2qczQ3dqJOflcHD5wVHZtHrSVE9OioBXVRlvHicPwHkKQF4j2rH0eejLYMqlYJ",
    "fsYUeODpWBRKKJsh0FLM84QlungVNv+up6kEaT0H/59cbn8BvWdLWGM4Hqg3vw3C",
    "Hg/SVEFdo6uZhjA7DEQBPENCNYv9pBpR5iBmpfn8C7TSAMSPuuYViBS2bw8oJJ5JwmpIy/5Q14Eop+uv1z/O8IUftsU+LeHp31W1U5PKX7qBsbY90kFv8DKyrZOR+STV",
    "0dqn11rJ2dZQVvEwnsUE7Y8kcV+lKQSLld0JsYjDwYJatJvE8EVQnh6NZ7NTBMH57DRdAA0z7RE+TZ68UHqVhzy+tPb9C6CBS9oB+xWVFFKK/B1J79N/3CntHYCE9YGz",
    "12Jz3Zqla8gODkEbU3Ba5f9YQLkkqVAFDtOQ1fI+DbM="
   ]
  },
  {
   "cell_type": "markdown",
   "id": "913ebf98-d856-4dc0-a79b-f02c6c00ecb8",
   "metadata": {},
   "source": [
    "**Вопросы:**\n",
    "\n",
    "1. Опишите поведение графиков для каждого из параметров.\n",
    "1. Изменился ли график максимального количества разбиения по сравнению с предыдущим вариантом? Почему?\n",
    "1. Как связаны оптимальная сложность деревьев и количество распознающих деревьев?\n",
    "1. За что отвечает параметр `max_samples`?"
   ]
  },
  {
   "cell_type": "markdown",
   "id": "59c02700-6696-4e60-ae90-8a7ef6e5af8b",
   "metadata": {},
   "source": [
    "**Ответы:**\n",
    "\n",
    "1. ...\n",
    "1. ..."
   ]
  },
  {
   "cell_type": "markdown",
   "id": "83ffc07c-944a-44cc-9009-737a7e934162",
   "metadata": {},
   "source": [
    "## Задание №4\n",
    "\n",
    "Подготовьте датасет mnist через функцию `load_digits` для дальнейшей работы.\n",
    "Преобразуйте каждое изображение в одномерный вектор нормированных признаков.\n",
    "Разделите датасет на обучающую и тестовую выборки.\n",
    "Размер тестовой выборки следует выбрать равным 20% от размера всей выборки.\n",
    "Не забудьте указать `random_state` для повторяемости результатов."
   ]
  },
  {
   "cell_type": "code",
   "execution_count": null,
   "id": "11109bd9-1eab-4c38-93d5-6498401db0d5",
   "metadata": {},
   "outputs": [],
   "source": [
    "gc03TdtlhhZ4i9O1ssAWlBgmLxzuWjxsZDaMLqFgaDFTJ78ecf+7umHsNjDwkAk6+N1LgkMlEx4U/wgvR363Vg==",
    "CjWmNhrNJ+YvKscUkYV3DXOwBntuzm1Tq78LvRg1rDM=",
    "y7MK+QG8G5wdZtM2d5PA/bTyKzS7Qsf2+GENiZmV9Wlw/jnXEu0d4t0C9gqN32cYa1buwDWiSKzerAvbe+H7MD3utKGdxTFhJaZqvuABe13T7hq537o7sOPRlDqKmDtZ5HEncRg8MOK/vfThycXapA=="
   ]
  },
  {
   "cell_type": "markdown",
   "id": "ec4ac8fa-8a85-4ae4-a416-15b3da8826fc",
   "metadata": {},
   "source": [
    "## Задание №5\n",
    "\n",
    "Найдите наилучшие параметры для ансамблей, полученных баггингом, методом адаптивного бустинга, а также случайного леса с помощью `GridSearchCV`.\n",
    "Выведите _accuracy_ для обучающей и тестовой выборок.\n",
    "Параметры переборов:\n",
    "\n",
    "* Макимальная глубина деревьев - от 1 до 20\n",
    "* Количество деревьев - от 10 до 100\n",
    "* `max_samples` и `max_features` - от 0 до 1"
   ]
  },
  {
   "cell_type": "code",
   "execution_count": null,
   "id": "c3879d17-5193-4e27-a2e4-f152401ff4f7",
   "metadata": {},
   "outputs": [],
   "source": [
    "gPxsdGA5yd9I584Apvc6hd4dOZJ+FgXjzhXwUuuGsaZ8YMTMpdXc0AbBgXhlNO9XBnujOcwFt9dBpi8XaKJP2sVXFXMwcbW2hkmlhTmbMTg=",
    "+0AzMkXNBjlGwIOywaqjlQ==",
    "rmED6g+Dta+ZjcMwOUNQfg==",
    "V8urn6kcmwodE7y5v1SfWGrJBFcdT/ujwutaUT7gHuE=",
    "SdLsKAY9voPGM6Ny0/R8SfskjXlEMBHcKIJAU5pj/dTx/6v7oT2P7hLqZo9F26v5uibxXEknQR7SSiPP9zLKxsPIilarfAPAFSScKLBmyp02f5zGnVUzOH26Q9QppmBI",
    "eQC6a0vbm3l2wCLyqq3Sr1RlJjUzdJ/YIkMP/fXzGY0=",
    "xMnQAjKUef5gILwTdPLMRXbSorg3Z+RyS4b+X6s1V6qUeJT1lvg5qbZRNHbkndvPO9GPsWLF0Rdk51ZYcjqkl5qZZ/rVnX4wZPl2Yk8IruA=",
    "SyXKmyqVnR58ZXrBrYerGO3B1JNki044W3LaMIScxT00wfEy0X4oIOoT2jdLQJMYPOC8jy+eAgAE8+2ANVjmHitlItGxsGU7D/jP4nO8qW0=",
    "oThom49wM1zJNMm5fc3rcegBreRP4FQDElyXesRvSzndgdiNYyT8G8f6C8ihNk5wdvuj6At8VP6wje8j4G1DkQ==",
    "+T/QaITfpFHYhEpGsO7omsEzarlEaB2wgOBJ9GUYeOxoPfkeUsHy48XT2503Hqj0",
    "SdLsKAY9voPGM6Ny0/R8SUJIwphnkrJSxqVJPnVDxtEd6SzH2ySoP/48y0ypQgI2g6zQ+mh1ICLpSM49NG953frQHJBSk0DM+AGCqaNCzTk=",
    "eQC6a0vbm3l2wCLyqq3Sr1RlJjUzdJ/YIkMP/fXzGY0=",
    "oThom49wM1zJNMm5fc3rcX8tCvzVWr8Ubl/FJYLLyeSNFPwOiJIs2/P9HSNSX3tcdyvQMILK/M+vdBbBoMPOpw==",
    "SyXKmyqVnR58ZXrBrYerGO3B1JNki044W3LaMIScxT00wfEy0X4oIOoT2jdLQJMYPOC8jy+eAgAE8+2ANVjmHitlItGxsGU7D/jP4nO8qW0=",
    "oThom49wM1zJNMm5fc3rcdcCgYvEE5nddH+0JzfwCAeXWb7y+pqwweqai+sdv1qyZr372pfuwjRfiWTj+HN9EQ==",
    "xZMu+29/hw23TMAzEeAdC9SEWmpVZg7p+rcuC2mMeLs=",
    "SdLsKAY9voPGM6Ny0/R8SfHgn8FjRvmiI2lTVVa4RiAIX/Swq8jgvfnPil7p1FyiMyCugR4DbDqcOyPReXZ4WxJ3Q4IuUqgM/vSHLY7w6cC4uGTzrGWbvLFTjTlYZZzU",
    "eQC6a0vbm3l2wCLyqq3Sr1RlJjUzdJ/YIkMP/fXzGY0=",
    "xMnQAjKUef5gILwTdPLMRXbSorg3Z+RyS4b+X6s1V6osB7wZ6rHW58YEx8RFnPR42tRBY94w+/6q7R8TsSeU1Em3oYwXPxQGyJP6fQuYqYeB2I8ENpGQE2lTqRL5IGze",
    "SyXKmyqVnR58ZXrBrYerGLNl0wtWv7TRzDBb3QAXYOEEe/8tGBczQg+r4fwweL+Eiv9SUIHKallFdM9dTwDAuqqSijXzq29n17Gtxr08hq8=",
    "+0AzMkXNBjlGwIOywaqjlQ==",
    "oi1tWnQHXeK84mBRUfVrhZSr+4JTlJM1NhnJCkbakEWogHN5+6pwjaFBd0NgQhTl",
    "xSCs+UJdhYo7CUw9HVw/jitp7kwUdwuOxLPs97SvykZCvJf4EFd9aU5NbMglfGifp31+1GMsguCAjewu7KfS4yJsc9XzOtXzZdc6QHqzKx1yMOxKfm2VXekHtR5vljaNsFr4w8yKn0b5DdLqKCqX/w==",
    "c368xZifJmgbyM4CQ0AD3sHs4r1wLwrHGMeHR12NihDtGymFAp3SoP341c7YBlDO",
    "25g9yfEC736H2HJVH+T+L/OZ/Vi9WL+AhfuLo6bYScRjaZ/lTxyulTb8/qvKHZKO",
    "z6WcOE9RaUQM30zLURo/hn7VuE/MdJs6YiBL/7+Y2n79o7IZS/GH1tLUDh9sSp+d1Oqiskk/9dHh5B3bcbR6hA==",
    "YGALF2+pfksEL+6BoB/k7P6eEi+6NCmF9vYjOup+mecoA1+wnn+oTomg+GT/9zvU"
   ]
  },
  {
   "cell_type": "markdown",
   "id": "cb483bbf-7c29-47b5-ad68-c76ff6ee68b1",
   "metadata": {},
   "source": [
    "**Вопросы:**\n",
    "\n",
    "1. Какова оптимальная размерность подмножества случайно отбираемых признаков для случайного леса?\n",
    "1. Какой метод позволил достичь наилучшего результата?\n",
    "1. Что можно сказать о скорости обучения ансамблей?"
   ]
  },
  {
   "cell_type": "markdown",
   "id": "eb9d7a68-efc5-4923-9d24-7e89d4f0bab3",
   "metadata": {},
   "source": [
    "**Ответы:**\n",
    "\n",
    "1. ...\n",
    "1. ..."
   ]
  }
 ],
 "metadata": {
  "kernelspec": {
   "display_name": "Python3",
   "language": "python",
   "name": "python3"
  },
  "language_info": {
   "codemirror_mode": {
    "name": "ipython",
    "version": 3
   },
   "file_extension": ".py",
   "mimetype": "text/x-python",
   "name": "python",
   "nbconvert_exporter": "python",
   "pygments_lexer": "ipython3",
   "version": "3.9.6"
  }
 },
 "nbformat": 4,
 "nbformat_minor": 5
}
